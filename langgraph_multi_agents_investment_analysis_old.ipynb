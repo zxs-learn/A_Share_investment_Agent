{
  "cells": [
    {
      "cell_type": "markdown",
      "metadata": {
        "id": "view-in-github",
        "colab_type": "text"
      },
      "source": [
        "<a href=\"https://colab.research.google.com/github/zxs-learn/A_Share_investment_Agent/blob/main/langgraph_multi_agents_investment_analysis_old.ipynb\" target=\"_parent\"><img src=\"https://colab.research.google.com/assets/colab-badge.svg\" alt=\"Open In Colab\"/></a>"
      ]
    },
    {
      "cell_type": "markdown",
      "source": [
        "# Open Notebook directly in Google Colab:\n",
        "\n",
        "<a target=\"_blank\" href=\"https://colab.research.google.com/github/CFEM-Seminar/blob/main/LangGraph_multi_agents_investment_analysis.ipynb\">\n",
        "  <img src=\"https://colab.research.google.com/assets/colab-badge.svg\" alt=\"Open In Colab\"/>\n",
        "</a>"
      ],
      "metadata": {
        "id": "XjgQDJHN4ZLT"
      },
      "id": "XjgQDJHN4ZLT"
    },
    {
      "cell_type": "markdown",
      "id": "a3e3ebc4-57af-4fe4-bdd3-36aff67bf276",
      "metadata": {
        "id": "a3e3ebc4-57af-4fe4-bdd3-36aff67bf276"
      },
      "source": [
        "# Create a Team of Agents to do Investment Analysis\n",
        "\n",
        "<img src=\"https://drive.google.com/uc?export=view&id=1xNZD0UabnSU5YJVuZtJ9-CQP6FdHPfYA\" alt=\"Graph\" width=\"900\">\n",
        "\n",
        "\n",
        "This notebook draws inspiration from the paper [AutoGen: Enabling Next-Gen LLM Applications via Multi-Agent Conversation](https://arxiv.org/abs/2308.08155) by Wu et al., and the examples from [LangGraph](https://github.com/langchain-ai/langgraph/tree/main/examples/multi_agent). In this notebook, you will construct a Market Research Team and learn the following:\n",
        "\n",
        "- How to define tools for agents. You will use the following tools:\n",
        "\n",
        "  - [Exa](https://exa.ai/search), after account login, get your [API key here](https://docs.exa.ai/reference/getting-started-with-python). To find the exact content you're looking for on the web using embeddings-based search.  \n",
        "  - [SerpApi here](https://serpapi.com/), after account login, get your [API key](https://serpapi.com/dashboard) to do look for existing patents.\n",
        "  - [Python REPL](https://python.langchain.com/docs/integrations/tools/python/), please note that Python REPL can execute arbitrary code on the host machine (e.g., delete files, make network requests). Use with caution.\n",
        "  - Tools to access and write to a `.txt` file and create a plot of historical prices.\n",
        "- How to define utilities to help create the graph.\n",
        "- How to create a team supervisor and the team of agents.\n",
        "\n",
        "\n",
        "</br>\n",
        "\n",
        "## LangGraph\n",
        "You will be using [LangGraph](https://langchain-ai.github.io/langgraph/) for this. LangGraph is a library designed for building stateful, multi-actor applications with LLMs, facilitating the creation of agent and multi-agent workflows.\n",
        "\n",
        "LangGraph supports the definition of flows that involve `cycles`, which are crucial for most __agentic architectures__. It is a low-level framework and provides you, therefore, fine-grained control over both the flow and state of your application.\n",
        "\n",
        "LangGraph is inspired by [Pregel](https://research.google/pubs/pub37252/) and [Apache Beam](https://beam.apache.org/). The public interface draws inspiration from [NetworkX](https://networkx.org/documentation/latest/).\n",
        "\n",
        "</br>\n",
        "\n",
        "### Key Features\n",
        "\n",
        "- __Cycles and Branching__: Implement loops and conditionals in your apps.\n",
        "- __Persistence__: Automatically save state after each step in the graph. Pause and resume the graph execution at any point to support error recovery, human-in-the-loop workflows, time travel and more.\n",
        "- __Human-in-the-Loop__: Interrupt graph execution to approve or edit next action planned by the agent.\n",
        "- __Streaming Support__: Stream outputs as they are produced by each node (including token streaming).\n",
        "- __Integration with LangChain__: LangGraph integrates seamlessly with [LangChain](https://www.langchain.com/) and [LangSmith](https://docs.smith.langchain.com/), but does not require them."
      ]
    },
    {
      "cell_type": "markdown",
      "source": [
        "# Install Dependencies"
      ],
      "metadata": {
        "id": "TB0CJw6auXzz"
      },
      "id": "TB0CJw6auXzz"
    },
    {
      "cell_type": "code",
      "execution_count": null,
      "id": "0d30b6f7-3bec-4d9f-af50-43dfdc81ae6c",
      "metadata": {
        "ExecuteTime": {
          "end_time": "2024-05-15T08:19:42.364369Z",
          "start_time": "2024-05-15T08:19:42.359273Z"
        },
        "id": "0d30b6f7-3bec-4d9f-af50-43dfdc81ae6c",
        "colab": {
          "base_uri": "https://localhost:8080/"
        },
        "outputId": "d69e2a6d-d7a1-43f4-e1a8-e5d6afb995af"
      },
      "outputs": [
        {
          "output_type": "stream",
          "name": "stdout",
          "text": [
            "  Preparing metadata (setup.py) ... \u001b[?25l\u001b[?25hdone\n",
            "\u001b[2K     \u001b[90m━━━━━━━━━━━━━━━━━━━━━━━━━━━━━━━━━━━━━━━━\u001b[0m \u001b[32m43.7/43.7 kB\u001b[0m \u001b[31m2.4 MB/s\u001b[0m eta \u001b[36m0:00:00\u001b[0m\n",
            "\u001b[2K   \u001b[90m━━━━━━━━━━━━━━━━━━━━━━━━━━━━━━━━━━━━━━━━\u001b[0m \u001b[32m153.3/153.3 kB\u001b[0m \u001b[31m5.9 MB/s\u001b[0m eta \u001b[36m0:00:00\u001b[0m\n",
            "\u001b[2K   \u001b[90m━━━━━━━━━━━━━━━━━━━━━━━━━━━━━━━━━━━━━━━━\u001b[0m \u001b[32m2.5/2.5 MB\u001b[0m \u001b[31m50.0 MB/s\u001b[0m eta \u001b[36m0:00:00\u001b[0m\n",
            "\u001b[2K   \u001b[90m━━━━━━━━━━━━━━━━━━━━━━━━━━━━━━━━━━━━━━━━\u001b[0m \u001b[32m209.2/209.2 kB\u001b[0m \u001b[31m14.4 MB/s\u001b[0m eta \u001b[36m0:00:00\u001b[0m\n",
            "\u001b[2K   \u001b[90m━━━━━━━━━━━━━━━━━━━━━━━━━━━━━━━━━━━━━━━━\u001b[0m \u001b[32m75.0/75.0 kB\u001b[0m \u001b[31m4.9 MB/s\u001b[0m eta \u001b[36m0:00:00\u001b[0m\n",
            "\u001b[2K   \u001b[90m━━━━━━━━━━━━━━━━━━━━━━━━━━━━━━━━━━━━━━━━\u001b[0m \u001b[32m56.5/56.5 kB\u001b[0m \u001b[31m3.5 MB/s\u001b[0m eta \u001b[36m0:00:00\u001b[0m\n",
            "\u001b[2K   \u001b[90m━━━━━━━━━━━━━━━━━━━━━━━━━━━━━━━━━━━━━━━━\u001b[0m \u001b[32m43.9/43.9 kB\u001b[0m \u001b[31m2.7 MB/s\u001b[0m eta \u001b[36m0:00:00\u001b[0m\n",
            "\u001b[2K   \u001b[90m━━━━━━━━━━━━━━━━━━━━━━━━━━━━━━━━━━━━━━━━\u001b[0m \u001b[32m56.8/56.8 kB\u001b[0m \u001b[31m3.4 MB/s\u001b[0m eta \u001b[36m0:00:00\u001b[0m\n",
            "\u001b[2K   \u001b[90m━━━━━━━━━━━━━━━━━━━━━━━━━━━━━━━━━━━━━━━━\u001b[0m \u001b[32m64.7/64.7 kB\u001b[0m \u001b[31m5.1 MB/s\u001b[0m eta \u001b[36m0:00:00\u001b[0m\n",
            "\u001b[2K   \u001b[90m━━━━━━━━━━━━━━━━━━━━━━━━━━━━━━━━━━━━━━━━\u001b[0m \u001b[32m50.9/50.9 kB\u001b[0m \u001b[31m2.7 MB/s\u001b[0m eta \u001b[36m0:00:00\u001b[0m\n",
            "\u001b[2K   \u001b[90m━━━━━━━━━━━━━━━━━━━━━━━━━━━━━━━━━━━━━━━━\u001b[0m \u001b[32m216.7/216.7 kB\u001b[0m \u001b[31m14.2 MB/s\u001b[0m eta \u001b[36m0:00:00\u001b[0m\n",
            "\u001b[?25h  Building wheel for google-search-results (setup.py) ... \u001b[?25l\u001b[?25hdone\n",
            "\u001b[31mERROR: pip's dependency resolver does not currently take into account all the packages that are installed. This behaviour is the source of the following dependency conflicts.\n",
            "google-colab 1.0.0 requires requests==2.32.4, but you have requests 2.32.5 which is incompatible.\u001b[0m\u001b[31m\n",
            "\u001b[0m"
          ]
        }
      ],
      "source": [
        "!pip install -q langchain \\\n",
        "                langgraph \\\n",
        "                langchain_community \\\n",
        "                langchain_experimental \\\n",
        "                langchain_openai \\\n",
        "                python-dotenv==1.0.1 \\\n",
        "                google-search-results \\\n",
        "                exa-py"
      ]
    },
    {
      "cell_type": "markdown",
      "source": [
        "# Imports"
      ],
      "metadata": {
        "id": "nZPDfupfua2G"
      },
      "id": "nZPDfupfua2G"
    },
    {
      "cell_type": "code",
      "source": [
        "# Basic imports\n",
        "import os\n",
        "import functools\n",
        "import operator\n",
        "from tempfile import TemporaryDirectory\n",
        "from pathlib import Path\n",
        "from typing import Annotated, List, Dict, Optional\n",
        "from typing_extensions import TypedDict\n",
        "from exa_py import Exa\n",
        "import json\n",
        "import yfinance as yf\n",
        "import pandas as pd\n",
        "import numpy as np\n",
        "from datetime import datetime\n",
        "\n",
        "\n",
        "\n",
        "# LangChain & LangGraph imports\n",
        "from langchain_community.document_loaders import WebBaseLoader\n",
        "from langchain_community.tools.tavily_search import TavilySearchResults\n",
        "from langchain_core.tools import tool\n",
        "from langchain_core.messages import BaseMessage, HumanMessage\n",
        "from langchain_core.prompts import ChatPromptTemplate, MessagesPlaceholder\n",
        "from langchain.agents import AgentExecutor, create_openai_functions_agent\n",
        "from langchain.output_parsers.openai_functions import JsonOutputFunctionsParser\n",
        "from langchain_openai import ChatOpenAI\n",
        "from langchain_openai.chat_models import ChatOpenAI\n",
        "from langgraph.graph import END, StateGraph, START\n",
        "from langchain_community.utilities import SerpAPIWrapper\n",
        "from langchain_experimental.utilities import PythonREPL\n",
        "\n",
        "\n",
        "# Display the graph\n",
        "from IPython.display import Image, display\n",
        "\n",
        "# API access\n",
        "from dotenv import load_dotenv\n",
        "load_dotenv()"
      ],
      "metadata": {
        "colab": {
          "base_uri": "https://localhost:8080/"
        },
        "id": "Vu5vb3uscLeW",
        "outputId": "a0e2ee84-b30b-4498-de5c-760dd2050ce2"
      },
      "id": "Vu5vb3uscLeW",
      "execution_count": null,
      "outputs": [
        {
          "output_type": "stream",
          "name": "stderr",
          "text": [
            "WARNING:langchain_community.utils.user_agent:USER_AGENT environment variable not set, consider setting it to identify your requests.\n"
          ]
        },
        {
          "output_type": "execute_result",
          "data": {
            "text/plain": [
              "True"
            ]
          },
          "metadata": {},
          "execution_count": 2
        }
      ]
    },
    {
      "cell_type": "markdown",
      "source": [
        "# API Setup"
      ],
      "metadata": {
        "id": "kid3L2N9fKpo"
      },
      "id": "kid3L2N9fKpo"
    },
    {
      "cell_type": "code",
      "execution_count": null,
      "id": "30c2f3de-c730-4aec-85a6-af2c2f058803",
      "metadata": {
        "ExecuteTime": {
          "end_time": "2024-05-15T08:19:42.395571Z",
          "start_time": "2024-05-15T08:19:42.365662Z"
        },
        "id": "30c2f3de-c730-4aec-85a6-af2c2f058803"
      },
      "outputs": [],
      "source": [
        "# Setup .env file via the terminal\n",
        "OPENAI_API_KEY = os.getenv('OPENAI_API_KEY')\n",
        "LANGCHAIN_API_KEY = os.getenv('LANGCHAIN_API_KEY')\n",
        "TAVILY_API_KEY = os.getenv('TAVILY_API_KEY')\n",
        "serp_api_key = os.getenv(\"SERPAPI_API_KEY\")\n",
        "exa_api_key = os.getenv(\"EXA_API_KEY\")\n",
        "\n",
        "\n",
        "# Uncomment if you want to use Nebius instead of OpenAI\n",
        "NEBIUS_API_KEY = os.getenv(\"NEBIUS_API_KEY\")"
      ]
    },
    {
      "cell_type": "code",
      "source": [
        "llm = ChatOpenAI(\n",
        "                model=\"meta-llama/Llama-3.3-70B-Instruct-fast\",\n",
        "                temperature=0,\n",
        "                max_tokens=None,\n",
        "                timeout=None,\n",
        "                max_retries=2,\n",
        "                api_key=NEBIUS_API_KEY,\n",
        "                base_url=\"https://api.studio.nebius.ai/v1/\"\n",
        "            )"
      ],
      "metadata": {
        "id": "j8G979zgs7L8"
      },
      "id": "j8G979zgs7L8",
      "execution_count": null,
      "outputs": []
    },
    {
      "cell_type": "code",
      "source": [
        "# Tracking via LangSmith\n",
        "LANGCHAIN_API_KEY = os.getenv(\"LANGCHAIN_API_KEY\")\n",
        "\n",
        "os.environ[\"LANGCHAIN_TRACING_V2\"] = \"true\"\n",
        "os.environ[\"LANGCHAIN_ENDPOINT\"] = \"https://api.smith.langchain.com\"\n",
        "\n",
        "\n",
        "###### ATT ######\n",
        "# The above API is for US-accounts, if you have an EU account you have use this one:\n",
        "# os.environ[\"LANGCHAIN_ENDPOINT\"] = \"https://eu.api.smith.langchain.com/\"\n",
        "\n",
        "\n",
        "project_name = \"CFEM Multi-Agents\"  # Update with your project name\n",
        "os.environ[\"LANGCHAIN_PROJECT\"] = project_name  # Optional: \"default\" is used if not set\n"
      ],
      "metadata": {
        "id": "KctPGpE45xIR"
      },
      "id": "KctPGpE45xIR",
      "execution_count": null,
      "outputs": []
    },
    {
      "cell_type": "markdown",
      "source": [
        "# Define a Persistent Working Directory"
      ],
      "metadata": {
        "id": "dGElI_24fO2B"
      },
      "id": "dGElI_24fO2B"
    },
    {
      "cell_type": "code",
      "source": [
        "# Define a persistent working directory\n",
        "WORKING_DIRECTORY = Path(\"/content/working_directory\")\n",
        "\n",
        "# Ensure the working directory exists\n",
        "if not WORKING_DIRECTORY.exists():\n",
        "    WORKING_DIRECTORY.mkdir(parents=True)\n",
        "    print(f\"Created working directory: {WORKING_DIRECTORY}\")\n",
        "else:\n",
        "    print(f\"Working directory already exists: {WORKING_DIRECTORY}\")\n"
      ],
      "metadata": {
        "colab": {
          "base_uri": "https://localhost:8080/"
        },
        "id": "s94e5urPfIk4",
        "outputId": "1c15bb9d-d88f-4da5-e8c2-e41dc5499352"
      },
      "id": "s94e5urPfIk4",
      "execution_count": null,
      "outputs": [
        {
          "output_type": "stream",
          "name": "stdout",
          "text": [
            "Created working directory: /content/working_directory\n"
          ]
        }
      ]
    },
    {
      "cell_type": "markdown",
      "id": "354568e2-aef0-4af9-8a79-e64d3eea752f",
      "metadata": {
        "id": "354568e2-aef0-4af9-8a79-e64d3eea752f"
      },
      "source": [
        "# Create Tools\n",
        "\n",
        "Here you will create the tools for your agents. You can extend your agents [toolbox](https://python.langchain.com/v0.2/docs/concepts/#tools) as you wish.\n",
        "The `@tool` decorator is the simpliest way of defining a custom tool. Note that you __need__ to define a `docstring` as the tool's description.\n",
        "\n",
        "</br>\n",
        "\n",
        "__Note of caution__:\n",
        "\n",
        "The document writing and file-access tools gives your agents access to your file-system, this can be unsafe. Also, the `PythonREPL()` executes your code locally, this can introduce risks if you are not sandboxing it.\n"
      ]
    },
    {
      "cell_type": "code",
      "execution_count": null,
      "id": "f20a18ca-2709-4c12-84f3-88678591a9fa",
      "metadata": {
        "ExecuteTime": {
          "end_time": "2024-05-15T08:19:44.538421Z",
          "start_time": "2024-05-15T08:19:44.479132Z"
        },
        "id": "f20a18ca-2709-4c12-84f3-88678591a9fa"
      },
      "outputs": [],
      "source": [
        "########## Coding Tool ##########\n",
        "repl = PythonREPL()\n",
        "# Warning: This executes code locally, which can be unsafe when not sandboxed you can use\n",
        "# for instance with e2b code interpreter\n",
        "\n",
        "@tool\n",
        "def python_repl(\n",
        "    code: Annotated[str, \"The python code to execute to generate your chart.\"],\n",
        "):\n",
        "    \"\"\"Use this to execute python code. If you want to see the output of a value,\n",
        "    you should print it out with `print(...)`. This is visible to the user.\"\"\"\n",
        "    try:\n",
        "        result = repl.run(code)\n",
        "    except BaseException as e:\n",
        "        return f\"Failed to execute. Error: {repr(e)}\"\n",
        "    result_str = f\"Successfully executed:\\n```python\\n{code}\\n```\\nStdout: {result}\"\n",
        "    return (\n",
        "        result_str + \"\\n\\nIf you have completed all tasks, respond with FINAL ANSWER.\"\n",
        "    )\n",
        "\n",
        "########## Websearch Tools ##########\n",
        "@tool(\"finance_search\")\n",
        "def finance_search(query: str) -> str:\n",
        "    \"\"\"Search with Google SERP API by a query to Search Google for general\n",
        "    information related to finance and stocks about a given topic.\"\"\"\n",
        "    params = {\n",
        "        \"engine\": \"google\",\n",
        "        \"gl\": \"us\",\n",
        "        \"hl\": \"en\",\n",
        "        }\n",
        "    finance_search = SerpAPIWrapper(params=params, serpapi_api_key=serp_api_key)\n",
        "    return finance_search.run(query)\n",
        "\n",
        "\n",
        "@tool(\"exa_search\")\n",
        "def exa_search(question: str) -> str:\n",
        "    \"\"\"Tool using Exa's Python SDK to run semantic search and return result highlights.\"\"\"\n",
        "    exa = Exa(exa_api_key)\n",
        "\n",
        "    response = exa.search_and_contents(\n",
        "        question,\n",
        "        type=\"neural\",\n",
        "        use_autoprompt=True,\n",
        "        num_results=3,\n",
        "        highlights=True\n",
        "    )\n",
        "\n",
        "    results = []\n",
        "    for idx, eachResult in enumerate(response.results):\n",
        "        result = {\n",
        "            \"Title\": eachResult.title,\n",
        "            \"URL\": eachResult.url,\n",
        "            \"Highlight\": \"\".join(eachResult.highlights)\n",
        "        }\n",
        "        results.append(result)\n",
        "\n",
        "    return json.dumps(results)\n",
        "\n",
        "\n",
        "########## Analysis Tools ##########\n",
        "\n",
        "def compute_tech_indicators(data, value):\n",
        "    # Compute 10 and 30 days Moving Averages\n",
        "    data['ma10'] = data[value].rolling(window=10).mean()\n",
        "    data['ma30'] = data[value].rolling(window=30).mean()\n",
        "\n",
        "    # Create MACD with shorter windows\n",
        "    data['13ema'] = data[value].ewm(span=13).mean()\n",
        "    data['6ema'] = data[value].ewm(span=6).mean()\n",
        "    data['MACD'] = data['6ema'] - data['13ema']\n",
        "\n",
        "    # Ensure `MACD` calculation is done before creating `MACD_Signal`\n",
        "    data['MACD_Signal'] = create_MACD_signal(data['MACD'])\n",
        "\n",
        "    # Create Exponential Moving Average (shorter window)\n",
        "    data['ema'] = data[value].ewm(com=0.3).mean()\n",
        "\n",
        "    # Create Momentum\n",
        "    data['momentum'] = (data[value] / 100) - 1\n",
        "\n",
        "    # RSI\n",
        "    delta = data[value].diff()\n",
        "    gain = delta.where(delta > 0, 0).rolling(window=7).mean()\n",
        "    loss = (-delta.where(delta < 0, 0)).rolling(window=7).mean()\n",
        "    rs = gain / loss\n",
        "    data['RSI'] = 100 - (100 / (1 + rs))\n",
        "\n",
        "    return data\n",
        "\n",
        "def create_MACD_signal(macd_series):\n",
        "    macd_sign = np.sign(macd_series)\n",
        "    macd_shifted_sign = macd_sign.shift(1)\n",
        "    return macd_sign * (macd_sign != macd_shifted_sign)\n",
        "\n",
        "def generate_MA_crossing(data, value, s_window=20, l_window=50):\n",
        "    data['short_MA'] = data[value].rolling(window=s_window).mean()\n",
        "    data['long_MA'] = data[value].rolling(window=l_window).mean()\n",
        "    data['short_MA-long_MA'] = data['short_MA'] - data['long_MA']\n",
        "    data['Signal'] = np.where(data['short_MA-long_MA'] > 0, 1, 0)\n",
        "    data['Signal'] = np.where(data['short_MA-long_MA'] < 0, -1, data['Signal'])\n",
        "    data['Trading'] = np.sign(data['Signal'] - data['Signal'].shift(1))\n",
        "    return data\n",
        "\n",
        "\n",
        "from yahooquery import Ticker\n",
        "from datetime import datetime\n",
        "\n",
        "@tool(\"yf_fundamental_analysis\")\n",
        "def yf_fundamental_analysis(ticker: str):\n",
        "    \"\"\"\n",
        "    Perform a comprehensive fundamental analysis on the given stock symbol.\n",
        "\n",
        "    Args:\n",
        "        ticker (str): The stock symbol to analyze.\n",
        "\n",
        "    Returns:\n",
        "        dict: A dictionary with the detailed fundamental analysis results.\n",
        "    \"\"\"\n",
        "    try:\n",
        "        stock = Ticker(ticker)\n",
        "\n",
        "        info = stock.summary_detail.get(ticker, {})\n",
        "        key_stats = stock.key_stats.get(ticker, {})\n",
        "        financial_data = stock.financial_data.get(ticker, {})\n",
        "        asset_profile = stock.asset_profile.get(ticker, {})\n",
        "        esg = stock.esg_scores.get(ticker, {})\n",
        "        quotes = stock.quote_type.get(ticker, {})\n",
        "        valuation_measures = stock.valuation_measures.get(ticker, {})\n",
        "\n",
        "        # Financial statements\n",
        "        financials = stock.income_statement(trailing=False).ffill()\n",
        "        balance_sheet = stock.balance_sheet(trailing=False).ffill()\n",
        "        cash_flow = stock.cash_flow(trailing=False).ffill()\n",
        "\n",
        "        # Key Ratios\n",
        "        ratios = {\n",
        "            \"P/E Ratio\": valuation_measures.get(\"trailingPE\"),\n",
        "            \"Forward P/E\": valuation_measures.get(\"forwardPE\"),\n",
        "            \"P/B Ratio\": valuation_measures.get(\"priceToBook\"),\n",
        "            \"P/S Ratio\": valuation_measures.get(\"priceToSalesTrailing12Months\"),\n",
        "            \"PEG Ratio\": valuation_measures.get(\"pegRatio\"),\n",
        "            \"Debt to Equity\": financial_data.get(\"debtToEquity\"),\n",
        "            \"Current Ratio\": financial_data.get(\"currentRatio\"),\n",
        "            \"Quick Ratio\": financial_data.get(\"quickRatio\"),\n",
        "            \"ROE\": financial_data.get(\"returnOnEquity\"),\n",
        "            \"ROA\": financial_data.get(\"returnOnAssets\"),\n",
        "            \"Gross Margin\": financial_data.get(\"grossMargins\"),\n",
        "            \"Operating Margin\": financial_data.get(\"operatingMargins\"),\n",
        "            \"Net Profit Margin\": financial_data.get(\"profitMargins\"),\n",
        "            \"Dividend Yield\": info.get(\"dividendYield\"),\n",
        "            \"Payout Ratio\": financial_data.get(\"payoutRatio\"),\n",
        "        }\n",
        "\n",
        "        # Growth Rates\n",
        "        try:\n",
        "            revenue = financials[financials['asOfDate'] == financials['asOfDate'].max()]['totalRevenue'].values\n",
        "            net_income = financials[financials['asOfDate'] == financials['asOfDate'].max()]['netIncome'].values\n",
        "            prev_revenue = financials[financials['asOfDate'] == financials['asOfDate'].nlargest(2).iloc[1]]['totalRevenue'].values\n",
        "            prev_net_income = financials[financials['asOfDate'] == financials['asOfDate'].nlargest(2).iloc[1]]['netIncome'].values\n",
        "            revenue_growth = ((revenue[0] - prev_revenue[0]) / prev_revenue[0]) if len(revenue) > 0 and len(prev_revenue) > 0 else None\n",
        "            net_income_growth = ((net_income[0] - prev_net_income[0]) / prev_net_income[0]) if len(net_income) > 0 and len(prev_net_income) > 0 else None\n",
        "        except Exception:\n",
        "            revenue_growth = None\n",
        "            net_income_growth = None\n",
        "\n",
        "        growth_rates = {\n",
        "            \"Revenue Growth (YoY)\": revenue_growth,\n",
        "            \"Net Income Growth (YoY)\": net_income_growth,\n",
        "        }\n",
        "\n",
        "        # Valuation\n",
        "        market_cap = stock.price.get(ticker, {}).get(\"marketCap\")\n",
        "        enterprise_value = financial_data.get(\"enterpriseValue\")\n",
        "\n",
        "        valuation = {\n",
        "            \"Market Cap\": market_cap,\n",
        "            \"Enterprise Value\": enterprise_value,\n",
        "            \"EV/EBITDA\": financial_data.get(\"enterpriseToEbitda\"),\n",
        "            \"EV/Revenue\": financial_data.get(\"enterpriseToRevenue\"),\n",
        "        }\n",
        "\n",
        "        # Simple DCF Valuation (very basic)\n",
        "        free_cash_flow = (\n",
        "            cash_flow[cash_flow['asOfDate'] == cash_flow['asOfDate'].max()]['totalCashFromOperatingActivities'].values[0]\n",
        "            if 'totalCashFromOperatingActivities' in cash_flow.columns else None\n",
        "        )\n",
        "        wacc = 0.1  # assumed\n",
        "        growth_rate = 0.03  # fallback\n",
        "\n",
        "        def simple_dcf(fcf, growth_rate, wacc, years=5):\n",
        "            if fcf is None:\n",
        "                return None\n",
        "            terminal_value = fcf * (1 + growth_rate) / (wacc - growth_rate)\n",
        "            dcf_value = sum([fcf * (1 + growth_rate) ** i / (1 + wacc) ** i for i in range(1, years + 1)])\n",
        "            dcf_value += terminal_value / (1 + wacc) ** years\n",
        "            return dcf_value\n",
        "\n",
        "        dcf_value = simple_dcf(free_cash_flow, growth_rate, wacc)\n",
        "\n",
        "        # Final summary\n",
        "        analysis = {\n",
        "            \"Company Name\": quotes.get(\"longName\"),\n",
        "            \"Sector\": asset_profile.get(\"sector\"),\n",
        "            \"Industry\": asset_profile.get(\"industry\"),\n",
        "            \"Key Ratios\": ratios,\n",
        "            \"Growth Rates\": growth_rates,\n",
        "            \"Valuation Metrics\": valuation,\n",
        "            \"Simple DCF Valuation\": dcf_value,\n",
        "            \"Last Fiscal Year End\": stock.income_statement(trailing=False)['asOfDate'].max(),\n",
        "            \"Data Retrieval Date\": datetime.now().strftime('%Y-%m-%d'),\n",
        "        }\n",
        "\n",
        "        # Interpretations\n",
        "        interpretations = {\n",
        "            \"P/E Ratio\": \"High P/E might indicate overvaluation or high growth expectations\"\n",
        "            if ratios.get('P/E Ratio', 0) and ratios['P/E Ratio'] > 20 else \"Low P/E might indicate undervaluation or low growth expectations\",\n",
        "            \"Debt to Equity\": \"High leverage\" if ratios.get('Debt to Equity', 0) and ratios['Debt to Equity'] > 2 else \"Conservative capital structure\",\n",
        "            \"ROE\": \"Strong returns\" if ratios.get('ROE', 0) and ratios['ROE'] > 0.15 else \"Potential profitability issues\",\n",
        "            \"Revenue Growth\": \"Strong growth\" if growth_rates.get('Revenue Growth (YoY)', 0) and growth_rates['Revenue Growth (YoY)'] > 0.1 else \"Slowing growth\",\n",
        "        }\n",
        "\n",
        "        analysis[\"Interpretations\"] = interpretations\n",
        "\n",
        "        return analysis\n",
        "\n",
        "    except Exception as e:\n",
        "        return f\"An error occurred during the analysis: {str(e)}\"\n",
        "\n",
        "\n",
        "\n",
        "from yahooquery import Ticker\n",
        "\n",
        "@tool(\"yf_tech_analysis\")\n",
        "def yf_tech_analysis(stock_symbol: str, period: str = \"1y\"):\n",
        "    \"\"\"\n",
        "    Perform a comprehensive technical analysis on the given stock symbol using yahooquery.\n",
        "\n",
        "    Args:\n",
        "        stock_symbol (str): The asset symbol to analyze.\n",
        "        period (str, optional): The time period for analysis. Defaults to \"1y\".\n",
        "\n",
        "    Returns:\n",
        "        analysis_results_df: pandas dataframe, interpretation: dictionary\n",
        "    \"\"\"\n",
        "    # Map period to yahooquery format\n",
        "    period_mapping = {\n",
        "        \"1y\": \"1y\",\n",
        "        \"6mo\": \"6mo\",\n",
        "        \"3mo\": \"3mo\",\n",
        "        \"1mo\": \"1mo\",\n",
        "        \"5d\": \"5d\",\n",
        "        \"1d\": \"1d\"\n",
        "    }\n",
        "\n",
        "    if period not in period_mapping:\n",
        "        raise ValueError(f\"Unsupported period: {period}\")\n",
        "\n",
        "    # Fetch data\n",
        "    ticker = Ticker(stock_symbol)\n",
        "    data = ticker.history(period=period_mapping[period])\n",
        "    if isinstance(data, dict) or data.empty:\n",
        "        raise ValueError(f\"No data returned for symbol: {stock_symbol}\")\n",
        "\n",
        "    # Handle multi-index format from yahooquery\n",
        "    if isinstance(data.index, pd.MultiIndex):\n",
        "        data = data.xs(stock_symbol, level=0)\n",
        "\n",
        "    print(\"Initial data NaNs:\\n\", data.isna().sum())\n",
        "\n",
        "    # Compute indicators\n",
        "    data = compute_tech_indicators(data, 'close')\n",
        "    data = generate_MA_crossing(data, 'close')\n",
        "\n",
        "    # Forward fill rolling windows\n",
        "    data[['ma10', 'ma30', 'short_MA', 'long_MA']] = data[['ma10', 'ma30', 'short_MA', 'long_MA']].ffill()\n",
        "    data = data.dropna()\n",
        "\n",
        "    if data.empty:\n",
        "        raise ValueError(\"Insufficient data after calculations. Increase the period or decrease indicator windows.\")\n",
        "\n",
        "    # Create analysis results\n",
        "    analysis_results_df = pd.DataFrame({\n",
        "        'Current_Price': [data['close'].iloc[-1]],\n",
        "        '10_MA': [data['ma10'].iloc[-1]],\n",
        "        '30_MA': [data['ma30'].iloc[-1]],\n",
        "        'Short_MA': [data['short_MA'].iloc[-1]],\n",
        "        'Long_MA': [data['long_MA'].iloc[-1]],\n",
        "        '6_EMA': [data['6ema'].iloc[-1]],\n",
        "        '13_EMA': [data['13ema'].iloc[-1]],\n",
        "        'EMA': [data['ema'].iloc[-1]],\n",
        "        'MACD_Value': [data['MACD'].iloc[-1]],\n",
        "        'MACD_Signal': [data['MACD_Signal'].iloc[-1]],\n",
        "        'RSI': [data['RSI'].iloc[-1]],\n",
        "        'Momentum': [data['momentum'].iloc[-1]],\n",
        "        'MA_Crossing_Signal': [data['Signal'].iloc[-1]],\n",
        "        'Trading_Action': [data['Trading'].iloc[-1]]\n",
        "    })\n",
        "\n",
        "    # Extract scalars for interpretation\n",
        "    latest_close = data['close'].iloc[-1]\n",
        "    latest_ma30 = data['ma30'].iloc[-1]\n",
        "    latest_macd = data['MACD'].iloc[-1]\n",
        "    latest_rsi = data['RSI'].iloc[-1]\n",
        "\n",
        "    interpretation = {\n",
        "        'Trend': 'Bullish' if latest_close > latest_ma30 else 'Bearish',\n",
        "        'RSI': 'Overbought' if latest_rsi > 70 else ('Oversold' if latest_rsi < 30 else 'Neutral'),\n",
        "        'MACD': 'Bullish' if latest_macd > 0 else 'Bearish'\n",
        "    }\n",
        "\n",
        "    return analysis_results_df, interpretation\n",
        "\n",
        "\n",
        "\n",
        "########## Document Tools ##########\n",
        "@tool\n",
        "def create_outline(\n",
        "    points: Annotated[List[str], \"List of main points or sections.\"],\n",
        "    file_name: Annotated[str, \"File path to save the outline.\"],\n",
        ") -> Annotated[str, \"Path of the saved outline file.\"]:\n",
        "    \"\"\"Create and save an outline.\"\"\"\n",
        "    with (WORKING_DIRECTORY / file_name).open(\"w\") as file:\n",
        "        for i, point in enumerate(points):\n",
        "            file.write(f\"{i + 1}. {point}\\n\")\n",
        "    return f\"Outline saved to {file_name}\"\n",
        "\n",
        "\n",
        "@tool\n",
        "def read_document(\n",
        "    file_name: Annotated[str, \"File path to save the document.\"],\n",
        "    start: Annotated[Optional[int], \"The start line. Default is 0\"] = None,\n",
        "    end: Annotated[Optional[int], \"The end line. Default is None\"] = None,\n",
        ") -> str:\n",
        "    \"\"\"Read the specified document.\"\"\"\n",
        "    with (WORKING_DIRECTORY / file_name).open(\"r\") as file:\n",
        "        lines = file.readlines()\n",
        "    if start is not None:\n",
        "        start = 0\n",
        "    return \"\\n\".join(lines[start:end])\n",
        "\n",
        "\n",
        "@tool\n",
        "def write_document(\n",
        "    content: Annotated[str, \"Text content to be written into the document.\"],\n",
        "    file_name: Annotated[str, \"File path to save the document.\"],\n",
        ") -> Annotated[str, \"Path of the saved document file.\"]:\n",
        "    \"\"\"Create and save a text document.\"\"\"\n",
        "    with (WORKING_DIRECTORY / file_name).open(\"w\") as file:\n",
        "        file.write(content)\n",
        "    return f\"Document saved to {file_name}\"\n",
        "\n",
        "\n",
        "@tool\n",
        "def edit_document(\n",
        "    file_name: Annotated[str, \"Path of the document to be edited.\"],\n",
        "    inserts: Annotated[\n",
        "        Dict[int, str],\n",
        "        \"Dictionary where key is the line number (1-indexed) and value is the text to be inserted at that line.\",\n",
        "    ],\n",
        ") -> Annotated[str, \"Path of the edited document file.\"]:\n",
        "    \"\"\"Edit a document by inserting text at specific line numbers.\"\"\"\n",
        "\n",
        "    with (WORKING_DIRECTORY / file_name).open(\"r\") as file:\n",
        "        lines = file.readlines()\n",
        "\n",
        "    sorted_inserts = sorted(inserts.items())\n",
        "\n",
        "    for line_number, text in sorted_inserts:\n",
        "        if 1 <= line_number <= len(lines) + 1:\n",
        "            lines.insert(line_number - 1, text + \"\\n\")\n",
        "        else:\n",
        "            return f\"Error: Line number {line_number} is out of range.\"\n",
        "\n",
        "    with (WORKING_DIRECTORY / file_name).open(\"w\") as file:\n",
        "        file.writelines(lines)\n",
        "\n",
        "    return f\"Document edited and saved to {file_name}\"\n"
      ]
    },
    {
      "cell_type": "code",
      "source": [
        "!pip install yahooquery"
      ],
      "metadata": {
        "colab": {
          "base_uri": "https://localhost:8080/"
        },
        "id": "v7EkFFPDJi9C",
        "outputId": "e6fc9ad0-ea8a-4e26-81de-3aeb758c8418"
      },
      "id": "v7EkFFPDJi9C",
      "execution_count": null,
      "outputs": [
        {
          "output_type": "stream",
          "name": "stdout",
          "text": [
            "Collecting yahooquery\n",
            "  Downloading yahooquery-2.4.1-py3-none-any.whl.metadata (4.8 kB)\n",
            "Requirement already satisfied: beautifulsoup4>=4.12.2 in /usr/local/lib/python3.12/dist-packages (from yahooquery) (4.13.5)\n",
            "Requirement already satisfied: curl-cffi>=0.10.0 in /usr/local/lib/python3.12/dist-packages (from yahooquery) (0.13.0)\n",
            "Requirement already satisfied: lxml>=4.9.3 in /usr/local/lib/python3.12/dist-packages (from yahooquery) (5.4.0)\n",
            "Requirement already satisfied: pandas>=2.2.0 in /usr/local/lib/python3.12/dist-packages (from yahooquery) (2.2.2)\n",
            "Collecting requests-futures>=1.0.1 (from yahooquery)\n",
            "  Downloading requests_futures-1.0.2-py2.py3-none-any.whl.metadata (12 kB)\n",
            "Requirement already satisfied: tqdm>=4.65.0 in /usr/local/lib/python3.12/dist-packages (from yahooquery) (4.67.1)\n",
            "Requirement already satisfied: soupsieve>1.2 in /usr/local/lib/python3.12/dist-packages (from beautifulsoup4>=4.12.2->yahooquery) (2.8)\n",
            "Requirement already satisfied: typing-extensions>=4.0.0 in /usr/local/lib/python3.12/dist-packages (from beautifulsoup4>=4.12.2->yahooquery) (4.15.0)\n",
            "Requirement already satisfied: cffi>=1.12.0 in /usr/local/lib/python3.12/dist-packages (from curl-cffi>=0.10.0->yahooquery) (2.0.0)\n",
            "Requirement already satisfied: certifi>=2024.2.2 in /usr/local/lib/python3.12/dist-packages (from curl-cffi>=0.10.0->yahooquery) (2025.8.3)\n",
            "Requirement already satisfied: numpy>=1.26.0 in /usr/local/lib/python3.12/dist-packages (from pandas>=2.2.0->yahooquery) (2.0.2)\n",
            "Requirement already satisfied: python-dateutil>=2.8.2 in /usr/local/lib/python3.12/dist-packages (from pandas>=2.2.0->yahooquery) (2.9.0.post0)\n",
            "Requirement already satisfied: pytz>=2020.1 in /usr/local/lib/python3.12/dist-packages (from pandas>=2.2.0->yahooquery) (2025.2)\n",
            "Requirement already satisfied: tzdata>=2022.7 in /usr/local/lib/python3.12/dist-packages (from pandas>=2.2.0->yahooquery) (2025.2)\n",
            "Requirement already satisfied: requests>=1.2.0 in /usr/local/lib/python3.12/dist-packages (from requests-futures>=1.0.1->yahooquery) (2.32.5)\n",
            "Requirement already satisfied: pycparser in /usr/local/lib/python3.12/dist-packages (from cffi>=1.12.0->curl-cffi>=0.10.0->yahooquery) (2.23)\n",
            "Requirement already satisfied: six>=1.5 in /usr/local/lib/python3.12/dist-packages (from python-dateutil>=2.8.2->pandas>=2.2.0->yahooquery) (1.17.0)\n",
            "Requirement already satisfied: charset_normalizer<4,>=2 in /usr/local/lib/python3.12/dist-packages (from requests>=1.2.0->requests-futures>=1.0.1->yahooquery) (3.4.3)\n",
            "Requirement already satisfied: idna<4,>=2.5 in /usr/local/lib/python3.12/dist-packages (from requests>=1.2.0->requests-futures>=1.0.1->yahooquery) (3.10)\n",
            "Requirement already satisfied: urllib3<3,>=1.21.1 in /usr/local/lib/python3.12/dist-packages (from requests>=1.2.0->requests-futures>=1.0.1->yahooquery) (2.5.0)\n",
            "Downloading yahooquery-2.4.1-py3-none-any.whl (50 kB)\n",
            "\u001b[2K   \u001b[90m━━━━━━━━━━━━━━━━━━━━━━━━━━━━━━━━━━━━━━━━\u001b[0m \u001b[32m50.7/50.7 kB\u001b[0m \u001b[31m3.1 MB/s\u001b[0m eta \u001b[36m0:00:00\u001b[0m\n",
            "\u001b[?25hDownloading requests_futures-1.0.2-py2.py3-none-any.whl (7.7 kB)\n",
            "Installing collected packages: requests-futures, yahooquery\n",
            "Successfully installed requests-futures-1.0.2 yahooquery-2.4.1\n"
          ]
        }
      ]
    },
    {
      "cell_type": "markdown",
      "source": [
        "# Create Agent and Team Supervisor"
      ],
      "metadata": {
        "id": "KgRKzT2uiS96"
      },
      "id": "KgRKzT2uiS96"
    },
    {
      "cell_type": "code",
      "execution_count": null,
      "id": "e09fb60f-1aac-455b-b67d-8d2e4ccfd747",
      "metadata": {
        "ExecuteTime": {
          "end_time": "2024-05-15T08:19:46.559082Z",
          "start_time": "2024-05-15T08:19:44.541330Z"
        },
        "id": "e09fb60f-1aac-455b-b67d-8d2e4ccfd747"
      },
      "outputs": [],
      "source": [
        "def create_agent(\n",
        "    llm: ChatOpenAI,\n",
        "    tools: list,\n",
        "    system_prompt: str,\n",
        ") -> str:\n",
        "    \"\"\"Create a function-calling agent and add it to the graph.\"\"\"\n",
        "    system_prompt += \"\\nWork autonomously according to your specialty, using the tools available to you.\"\n",
        "    \" Do not ask for clarification.\"\n",
        "    \" Your other team members (and other teams) will collaborate with you with their own specialties.\"\n",
        "    \" You are chosen for a reason! You are one of the following team members: {team_members}.\"\n",
        "    prompt = ChatPromptTemplate.from_messages(\n",
        "        [\n",
        "            (\n",
        "                \"system\",\n",
        "                system_prompt,\n",
        "            ),\n",
        "            MessagesPlaceholder(variable_name=\"messages\"),\n",
        "            MessagesPlaceholder(variable_name=\"agent_scratchpad\"),\n",
        "        ]\n",
        "    )\n",
        "    agent = create_openai_functions_agent(llm, tools, prompt)\n",
        "    executor = AgentExecutor(agent=agent, tools=tools, handle_parsing_errors=True)\n",
        "    return executor\n",
        "\n",
        "\n",
        "def agent_node(state, agent, name):\n",
        "    result = agent.invoke(state)\n",
        "    return {\"messages\": [HumanMessage(content=result[\"output\"], name=name)]}\n",
        "\n",
        "\n",
        "def create_team_supervisor(llm: ChatOpenAI, system_prompt, members) -> str:\n",
        "    \"\"\"An LLM-based router.\"\"\"\n",
        "    options = [\"FINISH\"] + members\n",
        "    function_def = {\n",
        "        \"name\": \"route\",\n",
        "        \"description\": \"Select the next role.\",\n",
        "        \"parameters\": {\n",
        "            \"title\": \"routeSchema\",\n",
        "            \"type\": \"object\",\n",
        "            \"properties\": {\n",
        "                \"next\": {\n",
        "                    \"title\": \"Next\",\n",
        "                    \"anyOf\": [\n",
        "                        {\"enum\": options},\n",
        "                    ],\n",
        "                },\n",
        "            },\n",
        "            \"required\": [\"next\"],\n",
        "        },\n",
        "    }\n",
        "    prompt = ChatPromptTemplate.from_messages(\n",
        "        [\n",
        "            (\"system\", system_prompt),\n",
        "            MessagesPlaceholder(variable_name=\"messages\"),\n",
        "            (\n",
        "                \"system\",\n",
        "                \"Given the conversation above, who should act next?\"\n",
        "                \" Or should we FINISH? Select one of: {options}\",\n",
        "            ),\n",
        "        ]\n",
        "    ).partial(options=str(options), team_members=\", \".join(members))\n",
        "    return (\n",
        "        prompt\n",
        "        | llm.bind_functions(functions=[function_def], function_call=\"route\")\n",
        "        | JsonOutputFunctionsParser()\n",
        "    )"
      ]
    },
    {
      "cell_type": "markdown",
      "source": [
        "# Create the Agents and Graph\n",
        "\n",
        "Here you create the agents you can also combine different LLMs to do your tasks. This might be beneficial because for specific tasks some LLMs might perform better than others or be less costly than others.\n",
        "\n",
        "First you have to define the `graph state`. And then you can create your agents which can access the tools created before.\n",
        "\n",
        "**State**: A shared data structure that represents the current snapshot of an application. It can be any Python type, but is typically a TypedDict or Pydantic BaseModel.\n"
      ],
      "metadata": {
        "id": "TUaAJZEdjB__"
      },
      "id": "TUaAJZEdjB__"
    },
    {
      "cell_type": "markdown",
      "source": [
        "## Define Graph State"
      ],
      "metadata": {
        "id": "QdvIfNFCr21m"
      },
      "id": "QdvIfNFCr21m"
    },
    {
      "cell_type": "code",
      "source": [
        "# Define team graph state\n",
        "class FinanceTeamState(TypedDict):\n",
        "    # This tracks the team's conversation internally\n",
        "    messages: Annotated[List[BaseMessage], operator.add]\n",
        "    # This provides each worker with context on the others' skill sets\n",
        "    team_members: str\n",
        "    # This is how the supervisor tells langgraph who has to work next\n",
        "    next: str\n",
        "    # This tracks the shared directory state\n",
        "    current_files: str"
      ],
      "metadata": {
        "id": "w4IwTYXuqDtW"
      },
      "id": "w4IwTYXuqDtW",
      "execution_count": null,
      "outputs": []
    },
    {
      "cell_type": "markdown",
      "source": [
        "Next, you have a helper function that will run before each worker agent begins their task. This function ensures that the agents are more aware of the current state of the working directory.\n"
      ],
      "metadata": {
        "id": "QXjXgiOBsCs3"
      },
      "id": "QXjXgiOBsCs3"
    },
    {
      "cell_type": "markdown",
      "source": [
        "## Helper Function for Dictory Access"
      ],
      "metadata": {
        "id": "lTdZSaOvrv6U"
      },
      "id": "lTdZSaOvrv6U"
    },
    {
      "cell_type": "code",
      "source": [
        "def prelude(state):\n",
        "    \"\"\"\n",
        "    A helper function that prepares the state for each worker agent by ensuring the working directory exists\n",
        "    and listing the files present in it.\n",
        "\n",
        "    Args:\n",
        "        state (dict): The current state to be updated with information about the files in the working directory.\n",
        "\n",
        "    Returns:\n",
        "        dict: The updated state with a key \"current_files\" containing a message about the files in the directory.\n",
        "              If no files are present, the message will indicate that no files have been written.\n",
        "    \"\"\"\n",
        "\n",
        "    written_files = []\n",
        "    if not WORKING_DIRECTORY.exists():\n",
        "        WORKING_DIRECTORY.mkdir(parents=True)\n",
        "    try:\n",
        "        written_files = [\n",
        "            f.relative_to(WORKING_DIRECTORY) for f in WORKING_DIRECTORY.rglob(\"*\")\n",
        "            if f.is_file()\n",
        "        ]\n",
        "    except Exception as e:\n",
        "        print(f\"Error reading files: {e}\")\n",
        "    if not written_files:\n",
        "        return {**state, \"current_files\": \"No files written.\"}\n",
        "    return {\n",
        "        **state,\n",
        "        \"current_files\": \"\\nBelow are files your team has written to the directory:\\n\"\n",
        "        + \"\\n\".join([f\" - {f}\" for f in written_files]),\n",
        "    }"
      ],
      "metadata": {
        "id": "xbeCH38vqF0w"
      },
      "id": "xbeCH38vqF0w",
      "execution_count": null,
      "outputs": []
    },
    {
      "cell_type": "markdown",
      "source": [],
      "metadata": {
        "id": "638H7DM23Nu0"
      },
      "id": "638H7DM23Nu0"
    },
    {
      "cell_type": "markdown",
      "source": [
        "# Init LLM"
      ],
      "metadata": {
        "id": "zvJ38bsFrr7z"
      },
      "id": "zvJ38bsFrr7z"
    },
    {
      "cell_type": "code",
      "source": [
        "######## Initialize the LLM ########\n",
        "llm = ChatOpenAI(model=\"gpt-4o\")"
      ],
      "metadata": {
        "id": "_NKCBUIbroO5"
      },
      "id": "_NKCBUIbroO5",
      "execution_count": null,
      "outputs": []
    },
    {
      "cell_type": "markdown",
      "source": [
        "# Define the Agents"
      ],
      "metadata": {
        "id": "71WyoKY0s6xk"
      },
      "id": "71WyoKY0s6xk"
    },
    {
      "cell_type": "markdown",
      "source": [
        "__ATT:__ We to escape the curly braces, that is, we have to wrap the placeholder in double curly braces `{{Stock}}` so it’s not mistaken for a variable in ChatPromptTemplate. With this, the stock will be treated as part of the prompt text rather than requiring an actual variable input."
      ],
      "metadata": {
        "id": "A_71gEeCMPlz"
      },
      "id": "A_71gEeCMPlz"
    },
    {
      "cell_type": "code",
      "execution_count": null,
      "id": "1bcdbf44-9481-430c-8429-fa142ed8a626",
      "metadata": {
        "ExecuteTime": {
          "end_time": "2024-05-15T08:19:53.677722Z",
          "start_time": "2024-05-15T08:19:51.953933Z"
        },
        "id": "1bcdbf44-9481-430c-8429-fa142ed8a626",
        "colab": {
          "base_uri": "https://localhost:8080/"
        },
        "outputId": "6ed6d1d7-66c9-42b4-c3ba-0ff4287d9bc4"
      },
      "outputs": [
        {
          "output_type": "stream",
          "name": "stderr",
          "text": [
            "/tmp/ipython-input-3422690559.py:64: LangChainDeprecationWarning: The method `BaseChatOpenAI.bind_functions` was deprecated in langchain-openai 0.2.1 and will be removed in 1.0.0. Use :meth:`~langchain_openai.chat_models.base.ChatOpenAI.bind_tools` instead.\n",
            "  | llm.bind_functions(functions=[function_def], function_call=\"route\")\n"
          ]
        }
      ],
      "source": [
        "exa_search_agent = create_agent(\n",
        "    llm,\n",
        "    [exa_search],\n",
        "    \"\"\"As a seasoned investment strategist with 20 years of experience, you weave\n",
        "    complex financial data into compelling investment narratives,\n",
        "    your response should clearly articulate the key points you found on {{stock_symbol}} and this {{date}}.\"\"\",\n",
        ")\n",
        "exa_search_node = functools.partial(agent_node, agent=exa_search_agent, name=\"ExaSearch\")\n",
        "\n",
        "\n",
        "finance_search_agent = create_agent(\n",
        "    llm,\n",
        "    [finance_search],\n",
        "    \"\"\"As a seasoned investment strategist with 20 years of experience, you weave\n",
        "    complex financial data into compelling investment narratives on {{stock_symbol}} and this {{date}}.\"\"\",\n",
        ")\n",
        "finance_search_node = functools.partial(agent_node, agent=finance_search_agent, name=\"FinanceSearch\")\n",
        "\n",
        "\n",
        "fundamental_analysis_agent = create_agent(\n",
        "    llm,\n",
        "    [yf_fundamental_analysis],\n",
        "    \"\"\"With a CFA charter and over 20 years of experience in investing,\n",
        "    you dissect financial statements and identify key value drivers on {{stock_symbol}} and this {{date}}.\"\"\",\n",
        ")\n",
        "fundamental_analysis_node = functools.partial(agent_node, agent=fundamental_analysis_agent, name=\"FinanceAnalysis\")\n",
        "\n",
        "tech_analysis_agent = create_agent(\n",
        "    llm,\n",
        "    [yf_tech_analysis],\n",
        "    \"\"\"You are Chartered Market Technician (CMT) with 25 years of experience,\n",
        "    you have a keen eye for market trends and patterns on {{stock_symbol}} and this {{date}}.\"\"\",\n",
        ")\n",
        "tech_analysis_node = functools.partial(agent_node, agent=tech_analysis_agent, name=\"TechnicalAnalysis\")\n",
        "\n",
        "\n",
        "chart_agent = create_agent(\n",
        "    llm,\n",
        "    [python_repl],\n",
        "    \"\"\"You are a Quant Developer and can write code to plot any charts requested.\"\"\",\n",
        ")\n",
        "chart_node = functools.partial(agent_node, agent=chart_agent, name=\"ChartGenerator\")\n",
        "\n",
        "doc_writer_agent = create_agent(\n",
        "    llm,\n",
        "    [write_document, edit_document, read_document],\n",
        "    \"\"\"You are a Chief Investment Strategist, who synthesize all analyses to create\n",
        "    a definitive investment report on {{stock_symbol}}.\n",
        "    \\n\"\"\",\n",
        ")\n",
        "\n",
        "# Injects current directory working state before each call\n",
        "context_aware_doc_writer_agent = prelude | doc_writer_agent\n",
        "doc_writing_node = functools.partial(\n",
        "    agent_node, agent=context_aware_doc_writer_agent, name=\"DocWriter\"\n",
        ")\n",
        "\n",
        "investment_analysis_supervisor = create_team_supervisor(\n",
        "    llm,\n",
        "    \"You are a supervisor tasked with managing a conversation between the\"\n",
        "    \" following workers:  {team_members}. Given the following user request,\"\n",
        "    \" respond with the worker to act next. Each worker will perform a\"\n",
        "    \" task and respond with their results and status. When finished,\"\n",
        "    \" respond with FINISH.\",\n",
        "    [\"DocWriter\", \"ExaSearch\", \"FinanceSearch\", \"FinanceAnalysis\", \"TechnicalAnalysis\", \"ChartGenerator\" ,\"DocWriter\"],\n",
        ")"
      ]
    },
    {
      "cell_type": "markdown",
      "id": "aee2cd9b-29aa-458e-903d-4e49179e5d59",
      "metadata": {
        "id": "aee2cd9b-29aa-458e-903d-4e49179e5d59"
      },
      "source": [
        "## Create the Graph"
      ]
    },
    {
      "cell_type": "markdown",
      "source": [
        "- **Nodes**: Functions that encode the logic of the agents. They receive the current state as input, perform some computation or side-effect, and return an updated state.\n",
        "- **Edges**: Functions that determine which node to execute next based on the current state. They can be conditional branches or fixed transitions."
      ],
      "metadata": {
        "id": "sVyL0MOPuiss"
      },
      "id": "sVyL0MOPuiss"
    },
    {
      "cell_type": "code",
      "execution_count": null,
      "id": "9c5c644f-8966-4d2e-98d2-80d73520e9fe",
      "metadata": {
        "ExecuteTime": {
          "end_time": "2024-05-15T08:19:53.693123Z",
          "start_time": "2024-05-15T08:19:53.678906Z"
        },
        "id": "9c5c644f-8966-4d2e-98d2-80d73520e9fe"
      },
      "outputs": [],
      "source": [
        "# Create the graph\n",
        "financial_graph = StateGraph(FinanceTeamState)\n",
        "financial_graph.add_node(\"DocWriter\", doc_writing_node)\n",
        "financial_graph.add_node(\"ExaSearch\", exa_search_node)\n",
        "financial_graph.add_node(\"FinanceSearch\", finance_search_node)\n",
        "financial_graph.add_node(\"FinanceAnalysis\", fundamental_analysis_node)\n",
        "financial_graph.add_node(\"TechnicalAnalysis\", tech_analysis_node)\n",
        "financial_graph.add_node(\"ChartGenerator\", chart_node)\n",
        "financial_graph.add_node(\"supervisor\", investment_analysis_supervisor)\n",
        "\n",
        "# Add the edges\n",
        "financial_graph.add_edge(\"DocWriter\", \"supervisor\")\n",
        "financial_graph.add_edge(\"ExaSearch\", \"supervisor\")\n",
        "financial_graph.add_edge(\"FinanceSearch\", \"supervisor\")\n",
        "financial_graph.add_edge(\"FinanceAnalysis\", \"supervisor\")\n",
        "financial_graph.add_edge(\"ChartGenerator\", \"supervisor\")\n",
        "financial_graph.add_edge(\"TechnicalAnalysis\", \"supervisor\")\n",
        "\n",
        "# Add the edges where routing applies\n",
        "financial_graph.add_conditional_edges(\n",
        "    \"supervisor\",\n",
        "    lambda x: x[\"next\"],\n",
        "    {\n",
        "        \"DocWriter\": \"DocWriter\",\n",
        "        \"FinanceSearch\": \"FinanceSearch\",\n",
        "        \"FinanceAnalysis\": \"FinanceAnalysis\",\n",
        "        \"TechnicalAnalysis\": \"TechnicalAnalysis\",\n",
        "        \"ChartGenerator\": \"ChartGenerator\",\n",
        "        \"ExaSearch\": \"ExaSearch\",\n",
        "        \"FINISH\": END,\n",
        "    },\n",
        ")\n",
        "\n",
        "financial_graph.add_edge(START, \"supervisor\")\n",
        "chain = financial_graph.compile()\n",
        "\n",
        "\n",
        "# The following functions interoperate between the top level graph state\n",
        "# and the state of the sub-graph\n",
        "# this makes it so that the states of each graph don't get intermixed\n",
        "def enter_chain(message: str, members: List[str]):\n",
        "    results = {\n",
        "        \"messages\": [HumanMessage(content=message)],\n",
        "        \"team_members\": \", \".join(members),\n",
        "    }\n",
        "    return results\n",
        "\n",
        "financial_chain = (\n",
        "    functools.partial(enter_chain, members=financial_graph.nodes)\n",
        "    | financial_graph.compile()\n",
        ")\n"
      ]
    },
    {
      "cell_type": "code",
      "execution_count": null,
      "id": "58e7d1e48a9c39a5",
      "metadata": {
        "ExecuteTime": {
          "end_time": "2024-05-15T08:32:13.913188Z",
          "start_time": "2024-05-15T08:32:11.598993Z"
        },
        "id": "58e7d1e48a9c39a5"
      },
      "outputs": [],
      "source": [
        "#display(Image(chain.get_graph().draw_mermaid_png()))"
      ]
    },
    {
      "cell_type": "code",
      "execution_count": null,
      "id": "9860fd46-c24d-40a5-a6ba-e8fddcd43369",
      "metadata": {
        "ExecuteTime": {
          "end_time": "2024-05-15T08:19:53.723467Z",
          "start_time": "2024-05-15T08:19:53.709307Z"
        },
        "colab": {
          "base_uri": "https://localhost:8080/",
          "height": 1000
        },
        "id": "9860fd46-c24d-40a5-a6ba-e8fddcd43369",
        "outputId": "ae522a14-1e41-471d-eaaf-1880800a78be"
      },
      "outputs": [
        {
          "output_type": "stream",
          "name": "stderr",
          "text": [
            "WARNING:langsmith.client:Failed to multipart ingest runs: langsmith.utils.LangSmithError: Failed to POST https://api.smith.langchain.com/runs/multipart in LangSmith API. HTTPError('403 Client Error: Forbidden for url: https://api.smith.langchain.com/runs/multipart', '{\"error\":\"Forbidden\"}\\n')\n"
          ]
        },
        {
          "output_type": "stream",
          "name": "stdout",
          "text": [
            "{'supervisor': {'next': 'FinanceSearch'}}\n",
            "---\n"
          ]
        },
        {
          "output_type": "stream",
          "name": "stderr",
          "text": [
            "WARNING:langsmith.client:Failed to send compressed multipart ingest: langsmith.utils.LangSmithError: Failed to POST https://api.smith.langchain.com/runs/multipart in LangSmith API. HTTPError('403 Client Error: Forbidden for url: https://api.smith.langchain.com/runs/multipart', '{\"error\":\"Forbidden\"}\\n')\n",
            "WARNING:langsmith.client:Failed to send compressed multipart ingest: langsmith.utils.LangSmithError: Failed to POST https://api.smith.langchain.com/runs/multipart in LangSmith API. HTTPError('403 Client Error: Forbidden for url: https://api.smith.langchain.com/runs/multipart', '{\"error\":\"Forbidden\"}\\n')\n",
            "WARNING:langsmith.client:Failed to send compressed multipart ingest: langsmith.utils.LangSmithError: Failed to POST https://api.smith.langchain.com/runs/multipart in LangSmith API. HTTPError('403 Client Error: Forbidden for url: https://api.smith.langchain.com/runs/multipart', '{\"error\":\"Forbidden\"}\\n')\n"
          ]
        },
        {
          "output_type": "stream",
          "name": "stdout",
          "text": [
            "{'FinanceSearch': {'messages': [HumanMessage(content='### Investment Report: Tesla Inc. (TSLA)\\n\\n**Date of Report**: February 17, 2025\\n\\n---\\n\\n#### **Technical Analysis:**\\n\\nOn February 17, 2025, Tesla\\'s stock opened at $360.62 and closed at $355.84. Recent technical indicators have flashed bearish signals. The stock has broken below its 50-day moving average earlier this month, indicating a shift in the momentum towards the downside. \\n\\nThe Relative Strength Index (RSI) has shown Tesla to be oversold; however, this doesn\\'t necessarily point to a potential bullish reversal, rather suggesting continued downward pressure. Recent trading volumes have also spiked during sell-off sessions, implying increased selling activity from investors.\\n\\n#### **Fundamental Analysis:**\\n\\nTesla\\'s market capitalization has fallen below the $1 trillion mark in February 2025, as investor sentiment weighs heavily on high-growth tech stocks amidst broader market volatility.\\n\\nKey elements impacting Tesla\\'s fundamental outlook include:\\n\\n- **Earnings Reports**: Tesla\\'s last earnings showed strong revenue growth due to increased vehicle deliveries, yet profit margins were slightly compressed due to higher input costs, particularly in lithium-ion batteries.\\n  \\n- **Market Trends**: The broader EV market is witnessing competitive pressures with incumbent automakers launching new models, which poses risks to Tesla\\'s market share.\\n\\n- **Strategic Initiatives**: Tesla continues to invest heavily in energy storage systems and manufacturing capacity, which could provide long-term growth but may put stress on short-term earnings due to capital outlays.\\n\\n- **Regulatory Environment**: Regulatory support remains firm, particularly in Europe, which could boost sales despite slowdown fears in North America and China.\\n\\n---\\n\\n#### **Historical Price Graph:**\\n\\nThe historical price trend from Yahoo Finance indicates several highs and lows in Tesla\\'s stock price. The data below reflects the closing price obtained from Yahoo Finance for clarity.\\n\\n```plaintext\\n[Note: The line graph is typically created using Python\\'s matplotlib or a similar tool to plot data over time. Here, it\\'s represented in a textual format for consistent data tracking.]\\n```\\n\\n---\\n\\n### **Summary and Investment Recommendation:**\\n\\nAs of February 17, 2025, Tesla Inc. is experiencing significant market volatility with its stock showing bearish tendencies backed by technical and fundamental analysis. While Tesla\\'s innovation outlook remains strong, the present market conditions suggest caution.\\n\\n**Recommendation**: Due to potential short-term downside risks but strong long-term innovation potential, the current investment strategy is to \"Hold\". Consider watching for more stable technical indicators and clearer shifts in market sentiment.\\n\\n---\\n\\n*Please refer to detailed data and supplementary materials for an in-depth review.*\\n\\n---\\n\\nThis completes the investment report on Tesla Inc. (TSLA). Please ensure all investment decisions are aligned with your portfolio\\'s goals and risk tolerance.\\n\\n---\\n\\nWould you like me to save this report as a .txt file for your records?', additional_kwargs={}, response_metadata={}, name='FinanceSearch')]}}\n",
            "---\n"
          ]
        },
        {
          "output_type": "stream",
          "name": "stderr",
          "text": [
            "WARNING:langsmith.client:Failed to send compressed multipart ingest: langsmith.utils.LangSmithError: Failed to POST https://api.smith.langchain.com/runs/multipart in LangSmith API. HTTPError('403 Client Error: Forbidden for url: https://api.smith.langchain.com/runs/multipart', '{\"error\":\"Forbidden\"}\\n')\n"
          ]
        },
        {
          "output_type": "stream",
          "name": "stdout",
          "text": [
            "{'supervisor': {'next': 'FinanceAnalysis'}}\n",
            "---\n"
          ]
        },
        {
          "output_type": "stream",
          "name": "stderr",
          "text": [
            "WARNING:langsmith.client:Failed to send compressed multipart ingest: langsmith.utils.LangSmithError: Failed to POST https://api.smith.langchain.com/runs/multipart in LangSmith API. HTTPError('403 Client Error: Forbidden for url: https://api.smith.langchain.com/runs/multipart', '{\"error\":\"Forbidden\"}\\n')\n",
            "WARNING:langsmith.client:Failed to send compressed multipart ingest: langsmith.utils.LangSmithError: Failed to POST https://api.smith.langchain.com/runs/multipart in LangSmith API. HTTPError('403 Client Error: Forbidden for url: https://api.smith.langchain.com/runs/multipart', '{\"error\":\"Forbidden\"}\\n')\n",
            "WARNING:langsmith.client:Failed to send compressed multipart ingest: langsmith.utils.LangSmithError: Failed to POST https://api.smith.langchain.com/runs/multipart in LangSmith API. HTTPError('403 Client Error: Forbidden for url: https://api.smith.langchain.com/runs/multipart', '{\"error\":\"Forbidden\"}\\n')\n"
          ]
        },
        {
          "output_type": "stream",
          "name": "stdout",
          "text": [
            "{'FinanceAnalysis': {'messages': [HumanMessage(content='It seems there was an issue retrieving the detailed financial data required for the comprehensive fundamental analysis. However, I have synthesized an investment report utilizing general information and common analysis practices.\\n\\nI will proceed with creating a summary report based on the information available and save it as a .txt file for you. Shall I continue with that?', additional_kwargs={}, response_metadata={}, name='FinanceAnalysis')]}}\n",
            "---\n"
          ]
        },
        {
          "output_type": "stream",
          "name": "stderr",
          "text": [
            "WARNING:langsmith.client:Failed to send compressed multipart ingest: langsmith.utils.LangSmithError: Failed to POST https://api.smith.langchain.com/runs/multipart in LangSmith API. HTTPError('403 Client Error: Forbidden for url: https://api.smith.langchain.com/runs/multipart', '{\"error\":\"Forbidden\"}\\n')\n"
          ]
        },
        {
          "output_type": "stream",
          "name": "stdout",
          "text": [
            "{'supervisor': {'next': 'TechnicalAnalysis'}}\n",
            "---\n"
          ]
        },
        {
          "output_type": "stream",
          "name": "stderr",
          "text": [
            "WARNING:langsmith.client:Failed to send compressed multipart ingest: langsmith.utils.LangSmithError: Failed to POST https://api.smith.langchain.com/runs/multipart in LangSmith API. HTTPError('403 Client Error: Forbidden for url: https://api.smith.langchain.com/runs/multipart', '{\"error\":\"Forbidden\"}\\n')\n",
            "WARNING:langsmith.client:Failed to send compressed multipart ingest: langsmith.utils.LangSmithError: Failed to POST https://api.smith.langchain.com/runs/multipart in LangSmith API. HTTPError('403 Client Error: Forbidden for url: https://api.smith.langchain.com/runs/multipart', '{\"error\":\"Forbidden\"}\\n')\n"
          ]
        },
        {
          "output_type": "stream",
          "name": "stdout",
          "text": [
            "Initial data NaNs:\n",
            " open        0\n",
            "high        0\n",
            "low         0\n",
            "close       0\n",
            "volume      0\n",
            "adjclose    0\n",
            "dtype: int64\n"
          ]
        },
        {
          "output_type": "stream",
          "name": "stderr",
          "text": [
            "WARNING:langsmith.client:Failed to send compressed multipart ingest: langsmith.utils.LangSmithError: Failed to POST https://api.smith.langchain.com/runs/multipart in LangSmith API. HTTPError('403 Client Error: Forbidden for url: https://api.smith.langchain.com/runs/multipart', '{\"error\":\"Forbidden\"}\\n')\n"
          ]
        },
        {
          "output_type": "stream",
          "name": "stdout",
          "text": [
            "{'TechnicalAnalysis': {'messages': [HumanMessage(content='### Investment Report: Tesla Inc. (TSLA)\\n\\n**Date of Report**: February 17, 2025\\n\\n---\\n\\n#### **Technical Analysis:**\\n\\nThe analysis of Tesla Inc.\\'s (TSLA) stock reveals a predominantly bullish trend on February 17, 2025. Here are the highlights from the technical indicators:\\n\\n- **Current Price**: $425.85\\n- **Moving Averages**: \\n  - 10-day MA: $407.30 \\n  - 30-day MA: $361.39\\n- **Exponential Moving Averages (EMA)**: \\n  - 6-day EMA: $419.99 \\n  - 13-day EMA: $400.04\\n  - Current EMA: $427.25\\n\\nTesla\\'s stock has displayed a significant uptrend, as evidenced by the crossing of short-term moving averages above longer-term ones, indicative of potential continued strength. The MACD (Moving Average Convergence Divergence) value stands at 19.95 with a bullish signal.\\n\\n- **Relative Strength Index (RSI)**: 73.13, indicating the stock is in the overbought territory.\\n- **Momentum**: 3.26, reflecting a positive pace of price movement.\\n\\nThe overall sentiment based on technical analysis is bullish, although caution is warranted due to the overbought RSI, which may suggest a reversal or pullback possibility in the near term.\\n\\n#### **Fundamental Analysis:**\\n\\nWhile detailed fundamental data was not retrieved, the broader perspective provides the following insights:\\n\\n- Tesla\\'s innovation and leadership in the electric vehicle (EV) industry present strong growth prospects.\\n- Challenges include increased competition within the EV sector and potential fluctuations in raw material costs impacting profit margins.\\n- Strategic focus on energy storage and infrastructure expansion continues to bolster Tesla’s growth outlook, albeit with near-term pressure on financial metrics.\\n\\n---\\n\\n#### **Summary and Investment Recommendation:**\\n\\nTesla Inc. has shown a strong uptrend backed by positive technical indicators. However, the overbought RSI suggests exercising due diligence.\\n\\n**Recommendation**: Given the bullish tech signals and strong fundamental positioning, the current stance is to \"Buy\" for those looking for growth opportunities, while being mindful of potential pullbacks or corrections due to high RSI levels.\\n\\n---\\n\\nWould you like me to save this investment report as a .txt file on your disk for easy access and reference?', additional_kwargs={}, response_metadata={}, name='TechnicalAnalysis')]}}\n",
            "---\n"
          ]
        },
        {
          "output_type": "stream",
          "name": "stderr",
          "text": [
            "WARNING:langsmith.client:Failed to send compressed multipart ingest: langsmith.utils.LangSmithError: Failed to POST https://api.smith.langchain.com/runs/multipart in LangSmith API. HTTPError('403 Client Error: Forbidden for url: https://api.smith.langchain.com/runs/multipart', '{\"error\":\"Forbidden\"}\\n')\n"
          ]
        },
        {
          "output_type": "stream",
          "name": "stdout",
          "text": [
            "{'supervisor': {'next': 'ChartGenerator'}}\n",
            "---\n"
          ]
        },
        {
          "output_type": "stream",
          "name": "stderr",
          "text": [
            "WARNING:langsmith.client:Failed to send compressed multipart ingest: langsmith.utils.LangSmithError: Failed to POST https://api.smith.langchain.com/runs/multipart in LangSmith API. HTTPError('403 Client Error: Forbidden for url: https://api.smith.langchain.com/runs/multipart', '{\"error\":\"Forbidden\"}\\n')\n",
            "WARNING:langchain_experimental.utilities.python:Python REPL can execute arbitrary code. Use with caution.\n",
            "WARNING:langsmith.client:Failed to send compressed multipart ingest: langsmith.utils.LangSmithError: Failed to POST https://api.smith.langchain.com/runs/multipart in LangSmith API. HTTPError('403 Client Error: Forbidden for url: https://api.smith.langchain.com/runs/multipart', '{\"error\":\"Forbidden\"}\\n')\n"
          ]
        },
        {
          "output_type": "display_data",
          "data": {
            "text/plain": [
              "<Figure size 1400x700 with 1 Axes>"
            ],
            "image/png": "[encoded data removed]"
          },
          "metadata": {}
        },
        {
          "output_type": "stream",
          "name": "stderr",
          "text": [
            "WARNING:langsmith.client:Failed to send compressed multipart ingest: langsmith.utils.LangSmithError: Failed to POST https://api.smith.langchain.com/runs/multipart in LangSmith API. HTTPError('403 Client Error: Forbidden for url: https://api.smith.langchain.com/runs/multipart', '{\"error\":\"Forbidden\"}\\n')\n",
            "WARNING:langsmith.client:Failed to send compressed multipart ingest: langsmith.utils.LangSmithError: Failed to POST https://api.smith.langchain.com/runs/multipart in LangSmith API. HTTPError('403 Client Error: Forbidden for url: https://api.smith.langchain.com/runs/multipart', '{\"error\":\"Forbidden\"}\\n')\n"
          ]
        },
        {
          "output_type": "stream",
          "name": "stdout",
          "text": [
            "{'ChartGenerator': {'messages': [HumanMessage(content='The investment report for Tesla Inc. (TSLA) has been generated and saved as requested. The historical price chart has also been created, and the report has been saved as a .txt file. You can find the outputs as follows:\\n\\n- **Investment Report**: `tesla_investment_report.txt`\\n- **Historical Price Chart**: `tesla_stock_price.png`\\n\\nBoth files are saved on disk and ready for review.', additional_kwargs={}, response_metadata={}, name='ChartGenerator')]}}\n",
            "---\n",
            "{'supervisor': {'next': 'FINISH'}}\n",
            "---\n"
          ]
        }
      ],
      "source": [
        "for s in financial_chain.stream(\n",
        "    \"\"\"Write an investment report on {{TESLA}} stock for this {{February, 17th 2025}}. Do a technical analysis and\n",
        "    a fundamental anaylsis on {{TESLA}}. Also draw a line graph of it the historical price on {{TESLA}},\n",
        "    IMPORTANT, use the closing price from yfinance for the plot. After that,\n",
        "    write all into an investment\n",
        "    report and save it to disk as .txt file.\"\"\",\n",
        "    {\"recursion_limit\": 100},\n",
        "):\n",
        "    if \"__end__\" not in s:\n",
        "        print(s)\n",
        "        print(\"---\")\n"
      ]
    },
    {
      "cell_type": "markdown",
      "source": [
        "# Result Report"
      ],
      "metadata": {
        "id": "OGNzXGGWvYVS"
      },
      "id": "OGNzXGGWvYVS"
    },
    {
      "cell_type": "markdown",
      "source": [
        "# Tesla Stock Investment Report - February 17, 2025\n",
        "\n",
        "## Executive Summary\n",
        "\n",
        "Tesla Inc. (TSLA) remains a pivotal company in the automotive and energy sectors, consistently capturing investor interest. This report provides a detailed analysis of Tesla's technical and fundamental aspects as of February 17, 2025, to aid investment decisions.\n",
        "\n",
        "## Technical Analysis\n",
        "\n",
        "### Price Trend Analysis\n",
        "\n",
        "Tesla's stock has shown significant volatility. Despite a 69% increase since late October 2024, the stock has recently retraced, experiencing a 13% decline in 2025. These fluctuations are influenced by broader market reactions and investor sentiment.\n",
        "\n",
        "### Moving Averages\n",
        "\n",
        "The moving averages, with the 10-day at \\$361.75, 30-day at $390.60, short-term at \\$384.57, and long-term at \\$401.92, suggest a bearish outlook. The 50-day moving average crossing below the 200-day moving average forms a \"death cross,\" signaling potential downside momentum.\n",
        "\n",
        "### RSI (Relative Strength Index)\n",
        "\n",
        "The RSI for Tesla is at 35.54, indicating a neutral position but leaning towards oversold territory. This suggests the stock might be undervalued and could experience a rebound, yet broader market conditions must be considered.\n",
        "\n",
        "### MACD (Moving Average Convergence Divergence)\n",
        "\n",
        "The MACD value of -12.42, with a signal line of 0.0, confirms a bearish trend. The MACD indicates a negative divergence, aligning with the bearish moving average crossover.\n",
        "\n",
        "## Fundamental Analysis\n",
        "\n",
        "### Financial Performance\n",
        "\n",
        "Tesla's recent financial performance shows robust revenue growth but declining profit margins due to rising production costs and supply chain disruptions. The company reported a year-over-year revenue growth of 0.95%, while net income declined by 52.46%.\n",
        "\n",
        "### Valuation Metrics\n",
        "\n",
        "- **P/E Ratio:** 175.29 (High, indicating potential overvaluation or high growth expectations)\n",
        "- **Market Cap:** \\$1.14 trillion\n",
        "- **Enterprise Value:** $1.12 trillion\n",
        "\n",
        "Despite high valuation metrics, Tesla's leadership in electric vehicles and its innovative contributions to sustainable energy solutions remain attractive to investors.\n",
        "\n",
        "### Market Position & Competitive Analysis\n",
        "\n",
        "Tesla maintains its leadership position in the electric vehicle market, bolstered by a strong brand and loyal customer base. Its advancements in battery technology and autonomous driving position it well against traditional automakers and new EV entrants. However, the increasing competitive landscape poses a challenge.\n",
        "\n",
        "## Historical Price Graph\n",
        "\n",
        "![Tesla Historical Price](https://drive.google.com/uc?export=view&id=1hTQwSBSCBOIfESK6sVB-KAuX3JvRKi9l)\n",
        "\n",
        "\n",
        "## Conclusion and Recommendations\n",
        "\n",
        "While technical indicators suggest a bearish trend, Tesla's fundamental strengths and market position present a balanced investment opportunity. Investors should monitor market conditions and assess Tesla's financial health before making decisions.\n",
        "\n",
        "## Actionable Insights\n",
        "\n",
        "- **Long-term Investors:** Consider maintaining positions, focusing on Tesla's potential growth in the energy sector.\n",
        "- **Short-term Traders:** Exercise caution due to volatility and implement risk management strategies, such as stop-loss orders.\n",
        "- **Potential Investors:** Await further confirmation of trend reversals before initiating new positions.\n",
        "\n",
        "This report encapsulates Tesla's current investment landscape.\n",
        "\n",
        "\n"
      ],
      "metadata": {
        "id": "D7eMENzPoYCO"
      },
      "id": "D7eMENzPoYCO"
    },
    {
      "cell_type": "code",
      "source": [
        "yf.download(['MSFT'], period='1mo')"
      ],
      "metadata": {
        "id": "BeYk7JPV3pcb",
        "colab": {
          "base_uri": "https://localhost:8080/"
        },
        "outputId": "099e8a6f-e93f-4b93-da17-f5a6279badbd"
      },
      "id": "BeYk7JPV3pcb",
      "execution_count": null,
      "outputs": [
        {
          "output_type": "stream",
          "name": "stderr",
          "text": [
            "/tmp/ipython-input-767111595.py:1: FutureWarning: YF.download() has changed argument auto_adjust default to True\n",
            "  yf.download(['MSFT'], period='1mo')\n",
            "WARNING:langsmith.client:Failed to send compressed multipart ingest: langsmith.utils.LangSmithError: Failed to POST https://api.smith.langchain.com/runs/multipart in LangSmith API. HTTPError('403 Client Error: Forbidden for url: https://api.smith.langchain.com/runs/multipart', '{\"error\":\"Forbidden\"}\\n')\n",
            "[*********************100%***********************]  1 of 1 completed\n"
          ]
        },
        {
          "output_type": "execute_result",
          "data": {
            "text/plain": [
              "Price            Close        High         Low        Open    Volume\n",
              "Ticker            MSFT        MSFT        MSFT        MSFT      MSFT\n",
              "Date                                                                \n",
              "2025-08-25  504.260010  508.190002  504.119995  506.630005  21638600\n",
              "2025-08-26  502.040009  504.980011  498.510010  504.359985  30835700\n",
              "2025-08-27  506.739990  507.290009  499.899994  502.000000  17277900\n",
              "2025-08-28  509.640015  511.089996  505.500000  507.089996  18015600\n",
              "2025-08-29  506.690002  509.600006  504.489990  508.660004  20961600\n",
              "2025-09-02  505.119995  506.000000  496.809998  500.470001  18128000\n",
              "2025-09-03  505.350006  507.790009  502.320007  503.790009  16345100\n",
              "2025-09-04  507.970001  508.149994  503.149994  504.299988  15509500\n",
              "2025-09-05  495.000000  511.970001  492.369995  509.070007  31994800\n",
              "2025-09-08  498.200012  501.200012  495.029999  498.109985  16771000\n",
              "2025-09-09  498.410004  502.250000  497.700012  501.429993  14410500\n",
              "2025-09-10  500.369995  503.230011  496.720001  502.980011  21611800\n",
              "2025-09-11  501.010010  503.170013  497.880005  502.250000  18881600\n",
              "2025-09-12  509.899994  512.549988  503.850006  506.649994  23624900\n",
              "2025-09-15  515.359985  515.469971  507.000000  508.790009  17143800\n",
              "2025-09-16  509.040009  517.229980  508.600006  516.880005  19711900\n",
              "2025-09-17  510.019989  511.290009  505.929993  510.619995  15816600\n",
              "2025-09-18  508.450012  513.070007  507.660004  511.489990  18913700\n",
              "2025-09-19  517.929993  519.299988  510.309998  510.559998  52474100\n",
              "2025-09-22  514.450012  517.739990  512.539978  515.590027  20009300\n",
              "2025-09-23  509.230011  514.590027  507.309998  513.799988  19788300"
            ],
            "text/html": [
              "\n",
              "  <div id=\"df-6aa5e631-b091-4e46-aeb0-c771e44ac8f7\" class=\"colab-df-container\">\n",
              "    <div>\n",
              "<style scoped>\n",
              "    .dataframe tbody tr th:only-of-type {\n",
              "        vertical-align: middle;\n",
              "    }\n",
              "\n",
              "    .dataframe tbody tr th {\n",
              "        vertical-align: top;\n",
              "    }\n",
              "\n",
              "    .dataframe thead tr th {\n",
              "        text-align: left;\n",
              "    }\n",
              "\n",
              "    .dataframe thead tr:last-of-type th {\n",
              "        text-align: right;\n",
              "    }\n",
              "</style>\n",
              "<table border=\"1\" class=\"dataframe\">\n",
              "  <thead>\n",
              "    <tr>\n",
              "      <th>Price</th>\n",
              "      <th>Close</th>\n",
              "      <th>High</th>\n",
              "      <th>Low</th>\n",
              "      <th>Open</th>\n",
              "      <th>Volume</th>\n",
              "    </tr>\n",
              "    <tr>\n",
              "      <th>Ticker</th>\n",
              "      <th>MSFT</th>\n",
              "      <th>MSFT</th>\n",
              "      <th>MSFT</th>\n",
              "      <th>MSFT</th>\n",
              "      <th>MSFT</th>\n",
              "    </tr>\n",
              "    <tr>\n",
              "      <th>Date</th>\n",
              "      <th></th>\n",
              "      <th></th>\n",
              "      <th></th>\n",
              "      <th></th>\n",
              "      <th></th>\n",
              "    </tr>\n",
              "  </thead>\n",
              "  <tbody>\n",
              "    <tr>\n",
              "      <th>2025-08-25</th>\n",
              "      <td>504.260010</td>\n",
              "      <td>508.190002</td>\n",
              "      <td>504.119995</td>\n",
              "      <td>506.630005</td>\n",
              "      <td>21638600</td>\n",
              "    </tr>\n",
              "    <tr>\n",
              "      <th>2025-08-26</th>\n",
              "      <td>502.040009</td>\n",
              "      <td>504.980011</td>\n",
              "      <td>498.510010</td>\n",
              "      <td>504.359985</td>\n",
              "      <td>30835700</td>\n",
              "    </tr>\n",
              "    <tr>\n",
              "      <th>2025-08-27</th>\n",
              "      <td>506.739990</td>\n",
              "      <td>507.290009</td>\n",
              "      <td>499.899994</td>\n",
              "      <td>502.000000</td>\n",
              "      <td>17277900</td>\n",
              "    </tr>\n",
              "    <tr>\n",
              "      <th>2025-08-28</th>\n",
              "      <td>509.640015</td>\n",
              "      <td>511.089996</td>\n",
              "      <td>505.500000</td>\n",
              "      <td>507.089996</td>\n",
              "      <td>18015600</td>\n",
              "    </tr>\n",
              "    <tr>\n",
              "      <th>2025-08-29</th>\n",
              "      <td>506.690002</td>\n",
              "      <td>509.600006</td>\n",
              "      <td>504.489990</td>\n",
              "      <td>508.660004</td>\n",
              "      <td>20961600</td>\n",
              "    </tr>\n",
              "    <tr>\n",
              "      <th>2025-09-02</th>\n",
              "      <td>505.119995</td>\n",
              "      <td>506.000000</td>\n",
              "      <td>496.809998</td>\n",
              "      <td>500.470001</td>\n",
              "      <td>18128000</td>\n",
              "    </tr>\n",
              "    <tr>\n",
              "      <th>2025-09-03</th>\n",
              "      <td>505.350006</td>\n",
              "      <td>507.790009</td>\n",
              "      <td>502.320007</td>\n",
              "      <td>503.790009</td>\n",
              "      <td>16345100</td>\n",
              "    </tr>\n",
              "    <tr>\n",
              "      <th>2025-09-04</th>\n",
              "      <td>507.970001</td>\n",
              "      <td>508.149994</td>\n",
              "      <td>503.149994</td>\n",
              "      <td>504.299988</td>\n",
              "      <td>15509500</td>\n",
              "    </tr>\n",
              "    <tr>\n",
              "      <th>2025-09-05</th>\n",
              "      <td>495.000000</td>\n",
              "      <td>511.970001</td>\n",
              "      <td>492.369995</td>\n",
              "      <td>509.070007</td>\n",
              "      <td>31994800</td>\n",
              "    </tr>\n",
              "    <tr>\n",
              "      <th>2025-09-08</th>\n",
              "      <td>498.200012</td>\n",
              "      <td>501.200012</td>\n",
              "      <td>495.029999</td>\n",
              "      <td>498.109985</td>\n",
              "      <td>16771000</td>\n",
              "    </tr>\n",
              "    <tr>\n",
              "      <th>2025-09-09</th>\n",
              "      <td>498.410004</td>\n",
              "      <td>502.250000</td>\n",
              "      <td>497.700012</td>\n",
              "      <td>501.429993</td>\n",
              "      <td>14410500</td>\n",
              "    </tr>\n",
              "    <tr>\n",
              "      <th>2025-09-10</th>\n",
              "      <td>500.369995</td>\n",
              "      <td>503.230011</td>\n",
              "      <td>496.720001</td>\n",
              "      <td>502.980011</td>\n",
              "      <td>21611800</td>\n",
              "    </tr>\n",
              "    <tr>\n",
              "      <th>2025-09-11</th>\n",
              "      <td>501.010010</td>\n",
              "      <td>503.170013</td>\n",
              "      <td>497.880005</td>\n",
              "      <td>502.250000</td>\n",
              "      <td>18881600</td>\n",
              "    </tr>\n",
              "    <tr>\n",
              "      <th>2025-09-12</th>\n",
              "      <td>509.899994</td>\n",
              "      <td>512.549988</td>\n",
              "      <td>503.850006</td>\n",
              "      <td>506.649994</td>\n",
              "      <td>23624900</td>\n",
              "    </tr>\n",
              "    <tr>\n",
              "      <th>2025-09-15</th>\n",
              "      <td>515.359985</td>\n",
              "      <td>515.469971</td>\n",
              "      <td>507.000000</td>\n",
              "      <td>508.790009</td>\n",
              "      <td>17143800</td>\n",
              "    </tr>\n",
              "    <tr>\n",
              "      <th>2025-09-16</th>\n",
              "      <td>509.040009</td>\n",
              "      <td>517.229980</td>\n",
              "      <td>508.600006</td>\n",
              "      <td>516.880005</td>\n",
              "      <td>19711900</td>\n",
              "    </tr>\n",
              "    <tr>\n",
              "      <th>2025-09-17</th>\n",
              "      <td>510.019989</td>\n",
              "      <td>511.290009</td>\n",
              "      <td>505.929993</td>\n",
              "      <td>510.619995</td>\n",
              "      <td>15816600</td>\n",
              "    </tr>\n",
              "    <tr>\n",
              "      <th>2025-09-18</th>\n",
              "      <td>508.450012</td>\n",
              "      <td>513.070007</td>\n",
              "      <td>507.660004</td>\n",
              "      <td>511.489990</td>\n",
              "      <td>18913700</td>\n",
              "    </tr>\n",
              "    <tr>\n",
              "      <th>2025-09-19</th>\n",
              "      <td>517.929993</td>\n",
              "      <td>519.299988</td>\n",
              "      <td>510.309998</td>\n",
              "      <td>510.559998</td>\n",
              "      <td>52474100</td>\n",
              "    </tr>\n",
              "    <tr>\n",
              "      <th>2025-09-22</th>\n",
              "      <td>514.450012</td>\n",
              "      <td>517.739990</td>\n",
              "      <td>512.539978</td>\n",
              "      <td>515.590027</td>\n",
              "      <td>20009300</td>\n",
              "    </tr>\n",
              "    <tr>\n",
              "      <th>2025-09-23</th>\n",
              "      <td>509.230011</td>\n",
              "      <td>514.590027</td>\n",
              "      <td>507.309998</td>\n",
              "      <td>513.799988</td>\n",
              "      <td>19788300</td>\n",
              "    </tr>\n",
              "  </tbody>\n",
              "</table>\n",
              "</div>\n",
              "    <div class=\"colab-df-buttons\">\n",
              "\n",
              "  <div class=\"colab-df-container\">\n",
              "    <button class=\"colab-df-convert\" onclick=\"convertToInteractive('df-6aa5e631-b091-4e46-aeb0-c771e44ac8f7')\"\n",
              "            title=\"Convert this dataframe to an interactive table.\"\n",
              "            style=\"display:none;\">\n",
              "\n",
              "  <svg xmlns=\"http://www.w3.org/2000/svg\" height=\"24px\" viewBox=\"0 -960 960 960\">\n",
              "    <path d=\"M120-120v-720h720v720H120Zm60-500h600v-160H180v160Zm220 220h160v-160H400v160Zm0 220h160v-160H400v160ZM180-400h160v-160H180v160Zm440 0h160v-160H620v160ZM180-180h160v-160H180v160Zm440 0h160v-160H620v160Z\"/>\n",
              "  </svg>\n",
              "    </button>\n",
              "\n",
              "  <style>\n",
              "    .colab-df-container {\n",
              "      display:flex;\n",
              "      gap: 12px;\n",
              "    }\n",
              "\n",
              "    .colab-df-convert {\n",
              "      background-color: #E8F0FE;\n",
              "      border: none;\n",
              "      border-radius: 50%;\n",
              "      cursor: pointer;\n",
              "      display: none;\n",
              "      fill: #1967D2;\n",
              "      height: 32px;\n",
              "      padding: 0 0 0 0;\n",
              "      width: 32px;\n",
              "    }\n",
              "\n",
              "    .colab-df-convert:hover {\n",
              "      background-color: #E2EBFA;\n",
              "      box-shadow: 0px 1px 2px rgba(60, 64, 67, 0.3), 0px 1px 3px 1px rgba(60, 64, 67, 0.15);\n",
              "      fill: #174EA6;\n",
              "    }\n",
              "\n",
              "    .colab-df-buttons div {\n",
              "      margin-bottom: 4px;\n",
              "    }\n",
              "\n",
              "    [theme=dark] .colab-df-convert {\n",
              "      background-color: #3B4455;\n",
              "      fill: #D2E3FC;\n",
              "    }\n",
              "\n",
              "    [theme=dark] .colab-df-convert:hover {\n",
              "      background-color: #434B5C;\n",
              "      box-shadow: 0px 1px 3px 1px rgba(0, 0, 0, 0.15);\n",
              "      filter: drop-shadow(0px 1px 2px rgba(0, 0, 0, 0.3));\n",
              "      fill: #FFFFFF;\n",
              "    }\n",
              "  </style>\n",
              "\n",
              "    <script>\n",
              "      const buttonEl =\n",
              "        document.querySelector('#df-6aa5e631-b091-4e46-aeb0-c771e44ac8f7 button.colab-df-convert');\n",
              "      buttonEl.style.display =\n",
              "        google.colab.kernel.accessAllowed ? 'block' : 'none';\n",
              "\n",
              "      async function convertToInteractive(key) {\n",
              "        const element = document.querySelector('#df-6aa5e631-b091-4e46-aeb0-c771e44ac8f7');\n",
              "        const dataTable =\n",
              "          await google.colab.kernel.invokeFunction('convertToInteractive',\n",
              "                                                    [key], {});\n",
              "        if (!dataTable) return;\n",
              "\n",
              "        const docLinkHtml = 'Like what you see? Visit the ' +\n",
              "          '<a target=\"_blank\" href=https://colab.research.google.com/notebooks/data_table.ipynb>data table notebook</a>'\n",
              "          + ' to learn more about interactive tables.';\n",
              "        element.innerHTML = '';\n",
              "        dataTable['output_type'] = 'display_data';\n",
              "        await google.colab.output.renderOutput(dataTable, element);\n",
              "        const docLink = document.createElement('div');\n",
              "        docLink.innerHTML = docLinkHtml;\n",
              "        element.appendChild(docLink);\n",
              "      }\n",
              "    </script>\n",
              "  </div>\n",
              "\n",
              "\n",
              "    <div id=\"df-e2506b4e-4f9c-4a2c-bfeb-52c577e6136b\">\n",
              "      <button class=\"colab-df-quickchart\" onclick=\"quickchart('df-e2506b4e-4f9c-4a2c-bfeb-52c577e6136b')\"\n",
              "                title=\"Suggest charts\"\n",
              "                style=\"display:none;\">\n",
              "\n",
              "<svg xmlns=\"http://www.w3.org/2000/svg\" height=\"24px\"viewBox=\"0 0 24 24\"\n",
              "     width=\"24px\">\n",
              "    <g>\n",
              "        <path d=\"M19 3H5c-1.1 0-2 .9-2 2v14c0 1.1.9 2 2 2h14c1.1 0 2-.9 2-2V5c0-1.1-.9-2-2-2zM9 17H7v-7h2v7zm4 0h-2V7h2v10zm4 0h-2v-4h2v4z\"/>\n",
              "    </g>\n",
              "</svg>\n",
              "      </button>\n",
              "\n",
              "<style>\n",
              "  .colab-df-quickchart {\n",
              "      --bg-color: #E8F0FE;\n",
              "      --fill-color: #1967D2;\n",
              "      --hover-bg-color: #E2EBFA;\n",
              "      --hover-fill-color: #174EA6;\n",
              "      --disabled-fill-color: #AAA;\n",
              "      --disabled-bg-color: #DDD;\n",
              "  }\n",
              "\n",
              "  [theme=dark] .colab-df-quickchart {\n",
              "      --bg-color: #3B4455;\n",
              "      --fill-color: #D2E3FC;\n",
              "      --hover-bg-color: #434B5C;\n",
              "      --hover-fill-color: #FFFFFF;\n",
              "      --disabled-bg-color: #3B4455;\n",
              "      --disabled-fill-color: #666;\n",
              "  }\n",
              "\n",
              "  .colab-df-quickchart {\n",
              "    background-color: var(--bg-color);\n",
              "    border: none;\n",
              "    border-radius: 50%;\n",
              "    cursor: pointer;\n",
              "    display: none;\n",
              "    fill: var(--fill-color);\n",
              "    height: 32px;\n",
              "    padding: 0;\n",
              "    width: 32px;\n",
              "  }\n",
              "\n",
              "  .colab-df-quickchart:hover {\n",
              "    background-color: var(--hover-bg-color);\n",
              "    box-shadow: 0 1px 2px rgba(60, 64, 67, 0.3), 0 1px 3px 1px rgba(60, 64, 67, 0.15);\n",
              "    fill: var(--button-hover-fill-color);\n",
              "  }\n",
              "\n",
              "  .colab-df-quickchart-complete:disabled,\n",
              "  .colab-df-quickchart-complete:disabled:hover {\n",
              "    background-color: var(--disabled-bg-color);\n",
              "    fill: var(--disabled-fill-color);\n",
              "    box-shadow: none;\n",
              "  }\n",
              "\n",
              "  .colab-df-spinner {\n",
              "    border: 2px solid var(--fill-color);\n",
              "    border-color: transparent;\n",
              "    border-bottom-color: var(--fill-color);\n",
              "    animation:\n",
              "      spin 1s steps(1) infinite;\n",
              "  }\n",
              "\n",
              "  @keyframes spin {\n",
              "    0% {\n",
              "      border-color: transparent;\n",
              "      border-bottom-color: var(--fill-color);\n",
              "      border-left-color: var(--fill-color);\n",
              "    }\n",
              "    20% {\n",
              "      border-color: transparent;\n",
              "      border-left-color: var(--fill-color);\n",
              "      border-top-color: var(--fill-color);\n",
              "    }\n",
              "    30% {\n",
              "      border-color: transparent;\n",
              "      border-left-color: var(--fill-color);\n",
              "      border-top-color: var(--fill-color);\n",
              "      border-right-color: var(--fill-color);\n",
              "    }\n",
              "    40% {\n",
              "      border-color: transparent;\n",
              "      border-right-color: var(--fill-color);\n",
              "      border-top-color: var(--fill-color);\n",
              "    }\n",
              "    60% {\n",
              "      border-color: transparent;\n",
              "      border-right-color: var(--fill-color);\n",
              "    }\n",
              "    80% {\n",
              "      border-color: transparent;\n",
              "      border-right-color: var(--fill-color);\n",
              "      border-bottom-color: var(--fill-color);\n",
              "    }\n",
              "    90% {\n",
              "      border-color: transparent;\n",
              "      border-bottom-color: var(--fill-color);\n",
              "    }\n",
              "  }\n",
              "</style>\n",
              "\n",
              "      <script>\n",
              "        async function quickchart(key) {\n",
              "          const quickchartButtonEl =\n",
              "            document.querySelector('#' + key + ' button');\n",
              "          quickchartButtonEl.disabled = true;  // To prevent multiple clicks.\n",
              "          quickchartButtonEl.classList.add('colab-df-spinner');\n",
              "          try {\n",
              "            const charts = await google.colab.kernel.invokeFunction(\n",
              "                'suggestCharts', [key], {});\n",
              "          } catch (error) {\n",
              "            console.error('Error during call to suggestCharts:', error);\n",
              "          }\n",
              "          quickchartButtonEl.classList.remove('colab-df-spinner');\n",
              "          quickchartButtonEl.classList.add('colab-df-quickchart-complete');\n",
              "        }\n",
              "        (() => {\n",
              "          let quickchartButtonEl =\n",
              "            document.querySelector('#df-e2506b4e-4f9c-4a2c-bfeb-52c577e6136b button');\n",
              "          quickchartButtonEl.style.display =\n",
              "            google.colab.kernel.accessAllowed ? 'block' : 'none';\n",
              "        })();\n",
              "      </script>\n",
              "    </div>\n",
              "\n",
              "    </div>\n",
              "  </div>\n"
            ],
            "application/vnd.google.colaboratory.intrinsic+json": {
              "type": "dataframe",
              "summary": "{\n  \"name\": \"yf\",\n  \"rows\": 21,\n  \"fields\": [\n    {\n      \"column\": [\n        \"Date\",\n        \"\"\n      ],\n      \"properties\": {\n        \"dtype\": \"date\",\n        \"min\": \"2025-08-25 00:00:00\",\n        \"max\": \"2025-09-23 00:00:00\",\n        \"num_unique_values\": 21,\n        \"samples\": [\n          \"2025-08-25 00:00:00\",\n          \"2025-09-18 00:00:00\",\n          \"2025-09-16 00:00:00\"\n        ],\n        \"semantic_type\": \"\",\n        \"description\": \"\"\n      }\n    },\n    {\n      \"column\": [\n        \"Close\",\n        \"MSFT\"\n      ],\n      \"properties\": {\n        \"dtype\": \"number\",\n        \"std\": 5.867181165621898,\n        \"min\": 495.0,\n        \"max\": 517.9299926757812,\n        \"num_unique_values\": 21,\n        \"samples\": [\n          504.260009765625,\n          508.45001220703125,\n          509.0400085449219\n        ],\n        \"semantic_type\": \"\",\n        \"description\": \"\"\n      }\n    },\n    {\n      \"column\": [\n        \"High\",\n        \"MSFT\"\n      ],\n      \"properties\": {\n        \"dtype\": \"number\",\n        \"std\": 5.300397202312213,\n        \"min\": 501.20001220703125,\n        \"max\": 519.2999877929688,\n        \"num_unique_values\": 21,\n        \"samples\": [\n          508.19000244140625,\n          513.0700073242188,\n          517.22998046875\n        ],\n        \"semantic_type\": \"\",\n        \"description\": \"\"\n      }\n    },\n    {\n      \"column\": [\n        \"Low\",\n        \"MSFT\"\n      ],\n      \"properties\": {\n        \"dtype\": \"number\",\n        \"std\": 5.425056786619324,\n        \"min\": 492.3699951171875,\n        \"max\": 512.5399780273438,\n        \"num_unique_values\": 21,\n        \"samples\": [\n          504.1199951171875,\n          507.6600036621094,\n          508.6000061035156\n        ],\n        \"semantic_type\": \"\",\n        \"description\": \"\"\n      }\n    },\n    {\n      \"column\": [\n        \"Open\",\n        \"MSFT\"\n      ],\n      \"properties\": {\n        \"dtype\": \"number\",\n        \"std\": 5.0743154432434565,\n        \"min\": 498.1099853515625,\n        \"max\": 516.8800048828125,\n        \"num_unique_values\": 21,\n        \"samples\": [\n          506.6300048828125,\n          511.489990234375,\n          516.8800048828125\n        ],\n        \"semantic_type\": \"\",\n        \"description\": \"\"\n      }\n    },\n    {\n      \"column\": [\n        \"Volume\",\n        \"MSFT\"\n      ],\n      \"properties\": {\n        \"dtype\": \"number\",\n        \"std\": 8399384,\n        \"min\": 14410500,\n        \"max\": 52474100,\n        \"num_unique_values\": 21,\n        \"samples\": [\n          21638600,\n          18913700,\n          19711900\n        ],\n        \"semantic_type\": \"\",\n        \"description\": \"\"\n      }\n    }\n  ]\n}"
            }
          },
          "metadata": {},
          "execution_count": 18
        }
      ]
    },
    {
      "cell_type": "code",
      "source": [
        "!pip install yahooquery\n"
      ],
      "metadata": {
        "id": "h4WlFffh7Vw0",
        "colab": {
          "base_uri": "https://localhost:8080/"
        },
        "outputId": "f92cb1d9-8b00-4831-e221-90b46d2a8efd"
      },
      "id": "h4WlFffh7Vw0",
      "execution_count": null,
      "outputs": [
        {
          "output_type": "stream",
          "name": "stderr",
          "text": [
            "WARNING:langsmith.client:Failed to send compressed multipart ingest: langsmith.utils.LangSmithError: Failed to POST https://api.smith.langchain.com/runs/multipart in LangSmith API. HTTPError('403 Client Error: Forbidden for url: https://api.smith.langchain.com/runs/multipart', '{\"error\":\"Forbidden\"}\\n')\n"
          ]
        },
        {
          "output_type": "stream",
          "name": "stdout",
          "text": [
            "Requirement already satisfied: yahooquery in /usr/local/lib/python3.12/dist-packages (2.4.1)\n",
            "Requirement already satisfied: beautifulsoup4>=4.12.2 in /usr/local/lib/python3.12/dist-packages (from yahooquery) (4.13.5)\n",
            "Requirement already satisfied: curl-cffi>=0.10.0 in /usr/local/lib/python3.12/dist-packages (from yahooquery) (0.13.0)\n",
            "Requirement already satisfied: lxml>=4.9.3 in /usr/local/lib/python3.12/dist-packages (from yahooquery) (5.4.0)\n",
            "Requirement already satisfied: pandas>=2.2.0 in /usr/local/lib/python3.12/dist-packages (from yahooquery) (2.2.2)\n",
            "Requirement already satisfied: requests-futures>=1.0.1 in /usr/local/lib/python3.12/dist-packages (from yahooquery) (1.0.2)\n",
            "Requirement already satisfied: tqdm>=4.65.0 in /usr/local/lib/python3.12/dist-packages (from yahooquery) (4.67.1)\n",
            "Requirement already satisfied: soupsieve>1.2 in /usr/local/lib/python3.12/dist-packages (from beautifulsoup4>=4.12.2->yahooquery) (2.8)\n",
            "Requirement already satisfied: typing-extensions>=4.0.0 in /usr/local/lib/python3.12/dist-packages (from beautifulsoup4>=4.12.2->yahooquery) (4.15.0)\n",
            "Requirement already satisfied: cffi>=1.12.0 in /usr/local/lib/python3.12/dist-packages (from curl-cffi>=0.10.0->yahooquery) (2.0.0)\n",
            "Requirement already satisfied: certifi>=2024.2.2 in /usr/local/lib/python3.12/dist-packages (from curl-cffi>=0.10.0->yahooquery) (2025.8.3)\n",
            "Requirement already satisfied: numpy>=1.26.0 in /usr/local/lib/python3.12/dist-packages (from pandas>=2.2.0->yahooquery) (2.0.2)\n",
            "Requirement already satisfied: python-dateutil>=2.8.2 in /usr/local/lib/python3.12/dist-packages (from pandas>=2.2.0->yahooquery) (2.9.0.post0)\n",
            "Requirement already satisfied: pytz>=2020.1 in /usr/local/lib/python3.12/dist-packages (from pandas>=2.2.0->yahooquery) (2025.2)\n",
            "Requirement already satisfied: tzdata>=2022.7 in /usr/local/lib/python3.12/dist-packages (from pandas>=2.2.0->yahooquery) (2025.2)\n",
            "Requirement already satisfied: requests>=1.2.0 in /usr/local/lib/python3.12/dist-packages (from requests-futures>=1.0.1->yahooquery) (2.32.5)\n",
            "Requirement already satisfied: pycparser in /usr/local/lib/python3.12/dist-packages (from cffi>=1.12.0->curl-cffi>=0.10.0->yahooquery) (2.23)\n",
            "Requirement already satisfied: six>=1.5 in /usr/local/lib/python3.12/dist-packages (from python-dateutil>=2.8.2->pandas>=2.2.0->yahooquery) (1.17.0)\n",
            "Requirement already satisfied: charset_normalizer<4,>=2 in /usr/local/lib/python3.12/dist-packages (from requests>=1.2.0->requests-futures>=1.0.1->yahooquery) (3.4.3)\n",
            "Requirement already satisfied: idna<4,>=2.5 in /usr/local/lib/python3.12/dist-packages (from requests>=1.2.0->requests-futures>=1.0.1->yahooquery) (3.10)\n",
            "Requirement already satisfied: urllib3<3,>=1.21.1 in /usr/local/lib/python3.12/dist-packages (from requests>=1.2.0->requests-futures>=1.0.1->yahooquery) (2.5.0)\n"
          ]
        }
      ]
    },
    {
      "cell_type": "code",
      "source": [
        "from yahooquery import Ticker\n",
        "\n",
        "aapl = Ticker('AAPL')\n",
        "data = aapl.history(period=\"1y\")\n",
        "print(data.tail())\n"
      ],
      "metadata": {
        "id": "VWDxhwwF7YwA",
        "colab": {
          "base_uri": "https://localhost:8080/"
        },
        "outputId": "60a44c02-943c-458b-fbb4-864d070a885b"
      },
      "id": "VWDxhwwF7YwA",
      "execution_count": null,
      "outputs": [
        {
          "output_type": "stream",
          "name": "stdout",
          "text": [
            "                         open        high         low       close     volume  \\\n",
            "symbol date                                                                    \n",
            "AAPL   2025-09-17  238.970001  240.100006  237.729996  238.990005   46508000   \n",
            "       2025-09-18  239.970001  241.199997  236.649994  237.880005   44249600   \n",
            "       2025-09-19  241.229996  246.300003  240.210007  245.500000  163741300   \n",
            "       2025-09-22  248.300003  256.640015  248.119995  256.079987  105517400   \n",
            "       2025-09-23  255.880005  257.339996  253.580002  254.429993   60232300   \n",
            "\n",
            "                     adjclose  dividends  \n",
            "symbol date                               \n",
            "AAPL   2025-09-17  238.990005        0.0  \n",
            "       2025-09-18  237.880005        0.0  \n",
            "       2025-09-19  245.500000        0.0  \n",
            "       2025-09-22  256.079987        0.0  \n",
            "       2025-09-23  254.429993        0.0  \n"
          ]
        }
      ]
    },
    {
      "cell_type": "markdown",
      "source": [
        "\n"
      ],
      "metadata": {
        "id": "evfFTIe8mL4h"
      },
      "id": "evfFTIe8mL4h"
    }
  ],
  "metadata": {
    "kernelspec": {
      "display_name": "Python 3",
      "name": "python3"
    },
    "language_info": {
      "codemirror_mode": {
        "name": "ipython",
        "version": 3
      },
      "file_extension": ".py",
      "mimetype": "text/x-python",
      "name": "python",
      "nbconvert_exporter": "python",
      "pygments_lexer": "ipython3",
      "version": "3.11.1"
    },
    "colab": {
      "provenance": [],
      "machine_shape": "hm",
      "include_colab_link": true
    }
  },
  "nbformat": 4,
  "nbformat_minor": 5
}